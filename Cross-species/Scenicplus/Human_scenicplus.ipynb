{
 "cells": [
  {
   "cell_type": "code",
   "execution_count": 1,
   "id": "874ab9f6",
   "metadata": {},
   "outputs": [],
   "source": [
    "## pycistarget terminal version\n",
    "\n",
    "import warnings\n",
    "warnings.simplefilter(action = 'ignore')\n",
    "import pycisTopic\n",
    "pycisTopic.__version__\n",
    "import numpy as np\n",
    "import pandas as pd\n",
    "\n",
    "projDir = '/media/ggj/FYT/CH/CH-cross/Fig3/Scenicplus/hg38/'\n",
    "outDir = projDir + 'output/'\n",
    "import os\n",
    "if not os.path.exists(outDir):\n",
    "    os.makedirs(outDir)\n",
    "tmpDir = '/media/ggj/FYT/CH/tmp/'\n",
    "if not os.path.exists(tmpDir):\n",
    "    os.makedirs(tmpDir)"
   ]
  },
  {
   "cell_type": "code",
   "execution_count": 2,
   "id": "0ffb7b6b",
   "metadata": {},
   "outputs": [
    {
     "name": "stderr",
     "output_type": "stream",
     "text": [
      "2023-04-16 09:00:45,441\tINFO worker.py:1364 -- Connecting to existing Ray cluster at address: 210.32.148.185:6379...\n",
      "2023-04-16 09:00:45,493\tINFO worker.py:1544 -- Connected to Ray cluster. View the dashboard at \u001b[1m\u001b[32mhttp://127.0.0.1:8265 \u001b[39m\u001b[22m\n"
     ]
    },
    {
     "data": {
      "text/html": [
       "<div>\n",
       "    <div style=\"margin-left: 50px;display: flex;flex-direction: row;align-items: center\">\n",
       "        <h3 style=\"color: var(--jp-ui-font-color0)\">Ray</h3>\n",
       "        <svg version=\"1.1\" id=\"ray\" width=\"3em\" viewBox=\"0 0 144.5 144.6\" style=\"margin-left: 3em;margin-right: 3em\">\n",
       "            <g id=\"layer-1\">\n",
       "                <path fill=\"#00a2e9\" class=\"st0\" d=\"M97.3,77.2c-3.8-1.1-6.2,0.9-8.3,5.1c-3.5,6.8-9.9,9.9-17.4,9.6S58,88.1,54.8,81.2c-1.4-3-3-4-6.3-4.1\n",
       "                    c-5.6-0.1-9.9,0.1-13.1,6.4c-3.8,7.6-13.6,10.2-21.8,7.6C5.2,88.4-0.4,80.5,0,71.7c0.1-8.4,5.7-15.8,13.8-18.2\n",
       "                    c8.4-2.6,17.5,0.7,22.3,8c1.3,1.9,1.3,5.2,3.6,5.6c3.9,0.6,8,0.2,12,0.2c1.8,0,1.9-1.6,2.4-2.8c3.5-7.8,9.7-11.8,18-11.9\n",
       "                    c8.2-0.1,14.4,3.9,17.8,11.4c1.3,2.8,2.9,3.6,5.7,3.3c1-0.1,2,0.1,3,0c2.8-0.5,6.4,1.7,8.1-2.7s-2.3-5.5-4.1-7.5\n",
       "                    c-5.1-5.7-10.9-10.8-16.1-16.3C84,38,81.9,37.1,78,38.3C66.7,42,56.2,35.7,53,24.1C50.3,14,57.3,2.8,67.7,0.5\n",
       "                    C78.4-2,89,4.7,91.5,15.3c0.1,0.3,0.1,0.5,0.2,0.8c0.7,3.4,0.7,6.9-0.8,9.8c-1.7,3.2-0.8,5,1.5,7.2c6.7,6.5,13.3,13,19.8,19.7\n",
       "                    c1.8,1.8,3,2.1,5.5,1.2c9.1-3.4,17.9-0.6,23.4,7c4.8,6.9,4.6,16.1-0.4,22.9c-5.4,7.2-14.2,9.9-23.1,6.5c-2.3-0.9-3.5-0.6-5.1,1.1\n",
       "                    c-6.7,6.9-13.6,13.7-20.5,20.4c-1.8,1.8-2.5,3.2-1.4,5.9c3.5,8.7,0.3,18.6-7.7,23.6c-7.9,5-18.2,3.8-24.8-2.9\n",
       "                    c-6.4-6.4-7.4-16.2-2.5-24.3c4.9-7.8,14.5-11,23.1-7.8c3,1.1,4.7,0.5,6.9-1.7C91.7,98.4,98,92.3,104.2,86c1.6-1.6,4.1-2.7,2.6-6.2\n",
       "                    c-1.4-3.3-3.8-2.5-6.2-2.6C99.8,77.2,98.9,77.2,97.3,77.2z M72.1,29.7c5.5,0.1,9.9-4.3,10-9.8c0-0.1,0-0.2,0-0.3\n",
       "                    C81.8,14,77,9.8,71.5,10.2c-5,0.3-9,4.2-9.3,9.2c-0.2,5.5,4,10.1,9.5,10.3C71.8,29.7,72,29.7,72.1,29.7z M72.3,62.3\n",
       "                    c-5.4-0.1-9.9,4.2-10.1,9.7c0,0.2,0,0.3,0,0.5c0.2,5.4,4.5,9.7,9.9,10c5.1,0.1,9.9-4.7,10.1-9.8c0.2-5.5-4-10-9.5-10.3\n",
       "                    C72.6,62.3,72.4,62.3,72.3,62.3z M115,72.5c0.1,5.4,4.5,9.7,9.8,9.9c5.6-0.2,10-4.8,10-10.4c-0.2-5.4-4.6-9.7-10-9.7\n",
       "                    c-5.3-0.1-9.8,4.2-9.9,9.5C115,72.1,115,72.3,115,72.5z M19.5,62.3c-5.4,0.1-9.8,4.4-10,9.8c-0.1,5.1,5.2,10.4,10.2,10.3\n",
       "                    c5.6-0.2,10-4.9,9.8-10.5c-0.1-5.4-4.5-9.7-9.9-9.6C19.6,62.3,19.5,62.3,19.5,62.3z M71.8,134.6c5.9,0.2,10.3-3.9,10.4-9.6\n",
       "                    c0.5-5.5-3.6-10.4-9.1-10.8c-5.5-0.5-10.4,3.6-10.8,9.1c0,0.5,0,0.9,0,1.4c-0.2,5.3,4,9.8,9.3,10\n",
       "                    C71.6,134.6,71.7,134.6,71.8,134.6z\"/>\n",
       "            </g>\n",
       "        </svg>\n",
       "        <table>\n",
       "            <tr>\n",
       "                <td style=\"text-align: left\"><b>Python version:</b></td>\n",
       "                <td style=\"text-align: left\"><b>3.8.13</b></td>\n",
       "            </tr>\n",
       "            <tr>\n",
       "                <td style=\"text-align: left\"><b>Ray version:</b></td>\n",
       "                <td style=\"text-align: left\"><b> 2.3.0</b></td>\n",
       "            </tr>\n",
       "            <tr>\n",
       "    <td style=\"text-align: left\"><b>Dashboard:</b></td>\n",
       "    <td style=\"text-align: left\"><b><a href=\"http://127.0.0.1:8265\" target=\"_blank\">http://127.0.0.1:8265</a></b></td>\n",
       "</tr>\n",
       "\n",
       "        </table>\n",
       "    </div>\n",
       "</div>\n"
      ],
      "text/plain": [
       "RayContext(dashboard_url='127.0.0.1:8265', python_version='3.8.13', ray_version='2.3.0', ray_commit='cf7a56b4b0b648c324722df7c99c168e92ff0b45', address_info={'node_ip_address': '210.32.148.185', 'raylet_ip_address': '210.32.148.185', 'redis_address': None, 'object_store_address': '/tmp/ray/session_2023-04-16_08-54-47_952144_3520133/sockets/plasma_store', 'raylet_socket_name': '/tmp/ray/session_2023-04-16_08-54-47_952144_3520133/sockets/raylet', 'webui_url': '127.0.0.1:8265', 'session_dir': '/tmp/ray/session_2023-04-16_08-54-47_952144_3520133', 'metrics_export_port': 46486, 'gcs_address': '210.32.148.185:6379', 'address': '210.32.148.185:6379', 'dashboard_agent_listen_port': 52365, 'node_id': 'b889e2a0a95ceee3f0299adecf83ec224a1b5931a5822c17c9a3fcbb'})"
      ]
     },
     "execution_count": 2,
     "metadata": {},
     "output_type": "execute_result"
    }
   ],
   "source": [
    "## ray init\n",
    "import ray\n",
    "ray.shutdown()\n",
    "ray.init('auto')\n",
    "#ray.init(address='10.105.100.3:6379')\n",
    "#assert ray.is_initialized() ==True"
   ]
  },
  {
   "cell_type": "code",
   "execution_count": 3,
   "id": "2b59e094",
   "metadata": {},
   "outputs": [],
   "source": [
    "#\n",
    "from scenicplus.scenicplus_class import SCENICPLUS, create_SCENICPLUS_object\n",
    "from scenicplus.preprocessing.filtering import *\n",
    "\n",
    "# load data\n",
    "import pickle\n",
    "infile = open('/media/ggj/FYT/CH/CH-cross/Fig3/Scenicplus/hg38/output/hg38_cluster_cistopicObject.pkl', 'rb')\n",
    "cistopic_obj = pickle.load(infile)\n",
    "infile.close()\n",
    "\n",
    "import pickle\n",
    "infile = open('/media/ggj/FYT/CH/CH-cross/Fig3/Scenicplus/hg38/output/DARs/Imputed_accessibility.pkl', 'rb')\n",
    "imputed_acc_obj = pickle.load(infile)\n",
    "infile.close()\n",
    "\n",
    "infile = open('/media/ggj/FYT/CH/CH-cross/Fig3/Scenicplus/hg38/output/pycisTarget/menr.pkl', 'rb') # change here\n",
    "\n",
    "menr = pickle.load(infile)\n",
    "infile.close()"
   ]
  },
  {
   "cell_type": "code",
   "execution_count": 4,
   "id": "f57bcb4b",
   "metadata": {},
   "outputs": [
    {
     "name": "stdout",
     "output_type": "stream",
     "text": [
      "2023-04-16 09:13:38,098 create scenicplus object INFO     Following annotations were found in both assays under key lineage:\n",
      "\tRenal, Neural, Immune, Endothelial, Epithelial, Muscle, Gut, Hepatocyte, Stromal.\n",
      "Keeping 2406 cells for RNA and 33084 for ATAC.\n",
      "2023-04-16 09:26:58,703 create scenicplus object INFO     Automatically set `nr_metacells` to: Endothelial: 24, Epithelial: 100, Gut: 148, Hepatocyte: 8, Immune: 362, Muscle: 66, Neural: 38, Renal: 52, Stromal: 162\n",
      "2023-04-16 09:26:58,706 create scenicplus object INFO     Generating pseudo multi-ome data\n"
     ]
    }
   ],
   "source": [
    "## RNA \n",
    "from loomxpy.loomxpy import SCopeLoom\n",
    "from pycisTopic.loom import *\n",
    "import itertools\n",
    "import anndata\n",
    "import scanpy as sc\n",
    "import numpy as np\n",
    "rna_anndata = sc.read_loom('/media/ggj/FYT/CH/CH-cross/Fig3/Scenicplus/hg38/hg38_rna_lineage_pseudo_20.loom')\n",
    "rna_anndata\n",
    "\n",
    "\n",
    "## Create Scenicplus object.\n",
    "scplus_obj = create_SCENICPLUS_object(GEX_anndata = rna_anndata, \n",
    "                                     cisTopic_obj = cistopic_obj,\n",
    "                                     imputed_acc_obj = imputed_acc_obj,\n",
    "                                     menr = menr,\n",
    "                                     multi_ome_mode = False,\n",
    "                                     key_to_group_by = 'lineage',\n",
    "                                     nr_cells_per_metacells = 5)"
   ]
  },
  {
   "cell_type": "code",
   "execution_count": 9,
   "id": "4561f777",
   "metadata": {},
   "outputs": [],
   "source": [
    "saveDir = outDir + 'scenicplus/'\n",
    "if not os.path.exists(saveDir):\n",
    "    os.mkdir(saveDir)"
   ]
  },
  {
   "cell_type": "code",
   "execution_count": 10,
   "id": "7118ccaf",
   "metadata": {},
   "outputs": [],
   "source": [
    "import scenicplus"
   ]
  },
  {
   "cell_type": "code",
   "execution_count": 11,
   "id": "4c348cc7",
   "metadata": {},
   "outputs": [],
   "source": [
    "from scenicplus import *"
   ]
  },
  {
   "cell_type": "code",
   "execution_count": 12,
   "id": "cf597adc",
   "metadata": {},
   "outputs": [],
   "source": [
    "from scenicplus.wrappers.run_scenicplus import run_scenicplus"
   ]
  },
  {
   "cell_type": "code",
   "execution_count": 14,
   "id": "208103ff-5737-44fd-acd9-94772d551cc7",
   "metadata": {},
   "outputs": [],
   "source": [
    "annot=pd.read_csv('./Hg38_geneanno.csv')"
   ]
  },
  {
   "cell_type": "code",
   "execution_count": 16,
   "id": "b425f533-1baa-40c1-a430-d9e5a0158c82",
   "metadata": {},
   "outputs": [],
   "source": [
    "import pyranges as pr\n",
    "annot_use = pr.PyRanges(annot.dropna(axis=0))"
   ]
  },
  {
   "cell_type": "code",
   "execution_count": 17,
   "id": "f657e9a9-2e40-4080-9aab-0eb4463966b9",
   "metadata": {},
   "outputs": [],
   "source": [
    "ucsc_assembly='hg38'\n",
    "import requests\n",
    "target_url = 'http://hgdownload.cse.ucsc.edu/goldenPath/{asm}/bigZips/{asm}.chrom.sizes'.format(\n",
    "            asm=ucsc_assembly)\n",
    "        # check wether url exists\n",
    "request = requests.get(target_url)\n",
    "if request.status_code == 200:\n",
    "    #log.info(\"Downloading chromosome sizes from: {}\".format(target_url))\n",
    "    chromsizes = pd.read_csv(target_url, sep='\\t', header=None)\n",
    "    chromsizes.columns = ['Chromosome', 'End']\n",
    "    chromsizes['Start'] = [0]*chromsizes.shape[0]\n",
    "    chromsizes = chromsizes.loc[:, ['Chromosome', 'Start', 'End']]\n",
    "if not any(['chr' in c for c in scplus_obj.region_names]):\n",
    "    annot.Chromosome = annot.Chromosome.str.replace('chr', '')\n",
    "    chromsizes = pr.PyRanges(chromsizes)"
   ]
  },
  {
   "cell_type": "code",
   "execution_count": 18,
   "id": "8753f2a6-2508-400c-8443-87262dc69957",
   "metadata": {},
   "outputs": [
    {
     "data": {
      "text/html": [
       "<div>\n",
       "<style scoped>\n",
       "    .dataframe tbody tr th:only-of-type {\n",
       "        vertical-align: middle;\n",
       "    }\n",
       "\n",
       "    .dataframe tbody tr th {\n",
       "        vertical-align: top;\n",
       "    }\n",
       "\n",
       "    .dataframe thead th {\n",
       "        text-align: right;\n",
       "    }\n",
       "</style>\n",
       "<table border=\"1\" class=\"dataframe\">\n",
       "  <thead>\n",
       "    <tr style=\"text-align: right;\">\n",
       "      <th></th>\n",
       "      <th>Chromosome</th>\n",
       "      <th>Start</th>\n",
       "      <th>End</th>\n",
       "    </tr>\n",
       "  </thead>\n",
       "  <tbody>\n",
       "    <tr>\n",
       "      <th>0</th>\n",
       "      <td>chr1</td>\n",
       "      <td>0</td>\n",
       "      <td>248956422</td>\n",
       "    </tr>\n",
       "    <tr>\n",
       "      <th>1</th>\n",
       "      <td>chr2</td>\n",
       "      <td>0</td>\n",
       "      <td>242193529</td>\n",
       "    </tr>\n",
       "    <tr>\n",
       "      <th>2</th>\n",
       "      <td>chr3</td>\n",
       "      <td>0</td>\n",
       "      <td>198295559</td>\n",
       "    </tr>\n",
       "    <tr>\n",
       "      <th>3</th>\n",
       "      <td>chr4</td>\n",
       "      <td>0</td>\n",
       "      <td>190214555</td>\n",
       "    </tr>\n",
       "    <tr>\n",
       "      <th>4</th>\n",
       "      <td>chr5</td>\n",
       "      <td>0</td>\n",
       "      <td>181538259</td>\n",
       "    </tr>\n",
       "    <tr>\n",
       "      <th>...</th>\n",
       "      <td>...</td>\n",
       "      <td>...</td>\n",
       "      <td>...</td>\n",
       "    </tr>\n",
       "    <tr>\n",
       "      <th>450</th>\n",
       "      <td>chrUn_KI270539v1</td>\n",
       "      <td>0</td>\n",
       "      <td>993</td>\n",
       "    </tr>\n",
       "    <tr>\n",
       "      <th>451</th>\n",
       "      <td>chrUn_KI270385v1</td>\n",
       "      <td>0</td>\n",
       "      <td>990</td>\n",
       "    </tr>\n",
       "    <tr>\n",
       "      <th>452</th>\n",
       "      <td>chrUn_KI270423v1</td>\n",
       "      <td>0</td>\n",
       "      <td>981</td>\n",
       "    </tr>\n",
       "    <tr>\n",
       "      <th>453</th>\n",
       "      <td>chrUn_KI270392v1</td>\n",
       "      <td>0</td>\n",
       "      <td>971</td>\n",
       "    </tr>\n",
       "    <tr>\n",
       "      <th>454</th>\n",
       "      <td>chrUn_KI270394v1</td>\n",
       "      <td>0</td>\n",
       "      <td>970</td>\n",
       "    </tr>\n",
       "  </tbody>\n",
       "</table>\n",
       "<p>455 rows × 3 columns</p>\n",
       "</div>"
      ],
      "text/plain": [
       "           Chromosome  Start        End\n",
       "0                chr1      0  248956422\n",
       "1                chr2      0  242193529\n",
       "2                chr3      0  198295559\n",
       "3                chr4      0  190214555\n",
       "4                chr5      0  181538259\n",
       "..                ...    ...        ...\n",
       "450  chrUn_KI270539v1      0        993\n",
       "451  chrUn_KI270385v1      0        990\n",
       "452  chrUn_KI270423v1      0        981\n",
       "453  chrUn_KI270392v1      0        971\n",
       "454  chrUn_KI270394v1      0        970\n",
       "\n",
       "[455 rows x 3 columns]"
      ]
     },
     "execution_count": 18,
     "metadata": {},
     "output_type": "execute_result"
    }
   ],
   "source": [
    "chromsizes"
   ]
  },
  {
   "cell_type": "code",
   "execution_count": 19,
   "id": "a62d759d",
   "metadata": {},
   "outputs": [
    {
     "name": "stdout",
     "output_type": "stream",
     "text": [
      "2023-04-16 09:43:37,913 SCENIC+_wrapper INFO     /media/ggj/FYT/CH/CH-cross/Fig3/Scenicplus/hg38/output/scenicplus/ folder already exists.\n",
      "2023-04-16 09:43:37,914 SCENIC+_wrapper INFO     Merging cistromes\n",
      "2023-04-16 09:44:03,331 SCENIC+_wrapper INFO     Getting search space\n",
      "2023-04-16 09:44:06,569 R2G          INFO     Extending promoter annotation to 10 bp upstream and 10 downstream\n",
      "2023-04-16 09:44:08,813 R2G          INFO     Extending search space to:\n",
      "            \t\t\t\t\t\t150000 bp downstream of the end of the gene.\n",
      "            \t\t\t\t\t\t150000 bp upstream of the start of the gene.\n",
      "2023-04-16 09:44:22,163 R2G          INFO     Intersecting with regions.\n",
      "2023-04-16 09:44:23,512 R2G          INFO     Calculating distances from region to gene\n",
      "2023-04-16 09:46:54,330 R2G          INFO     Imploding multiple entries per region and gene\n",
      "2023-04-16 09:52:41,714 R2G          INFO     Done!\n",
      "2023-04-16 09:52:42,436 SCENIC+_wrapper INFO     Inferring region to gene relationships\n",
      "2023-04-16 09:52:42,801 R2G          INFO     Calculating region to gene importances, using GBM method\n",
      "2023-04-16 09:56:15,883 R2G          INFO     Took 213.08056807518005 seconds\n",
      "2023-04-16 09:56:15,885 R2G          INFO     Calculating region to gene correlation, using SR method\n",
      "2023-04-16 09:59:35,461 R2G          INFO     Took 199.5750331878662 seconds\n",
      "2023-04-16 09:59:37,639 R2G          INFO     Done!\n",
      "2023-04-16 09:59:37,736 SCENIC+_wrapper INFO     Inferring TF to gene relationships\n",
      "2023-04-16 09:59:38,441 TF2G         INFO     Calculating TF to gene correlation, using GBM method\n",
      "2023-04-16 10:02:06,207 TF2G         INFO     Took 147.76448345184326 seconds\n",
      "2023-04-16 10:02:06,209 TF2G         INFO     Adding correlation coefficients to adjacencies.\n",
      "2023-04-16 10:02:10,858 TF2G         INFO     Warning: adding TFs as their own target to adjecencies matrix. Importance values will be max + 1e-05\n",
      "2023-04-16 10:02:13,460 TF2G         INFO     Adding importance x rho scores to adjacencies.\n",
      "2023-04-16 10:02:13,470 TF2G         INFO     Took 7.261178493499756 seconds\n",
      "2023-04-16 10:02:13,506 SCENIC+_wrapper INFO     Build eGRN\n",
      "2023-04-16 10:02:13,507 GSEA         INFO     Thresholding region to gene relationships\n"
     ]
    },
    {
     "name": "stderr",
     "output_type": "stream",
     "text": [
      "2023-04-16 10:02:13,578\tINFO worker.py:1382 -- Calling ray.init() again after it has already been called.\n"
     ]
    },
    {
     "name": "stdout",
     "output_type": "stream",
     "text": [
      "2023-04-16 10:05:51,360 GSEA         INFO     Subsetting TF2G adjacencies for TF with motif.\n"
     ]
    },
    {
     "name": "stderr",
     "output_type": "stream",
     "text": [
      "2023-04-16 10:06:01,587\tINFO worker.py:1544 -- Started a local Ray instance. View the dashboard at \u001b[1m\u001b[32mhttp://127.0.0.1:8266 \u001b[39m\u001b[22m\n"
     ]
    },
    {
     "name": "stdout",
     "output_type": "stream",
     "text": [
      "2023-04-16 10:06:02,631 GSEA         INFO     Running GSEA...\n",
      "2023-04-16 10:10:34,289 GSEA         INFO     Subsetting on adjusted pvalue: 1, minimal NES: 0 and minimal leading edge genes 10\n",
      "2023-04-16 10:10:35,210 GSEA         INFO     Merging eRegulons\n",
      "2023-04-16 10:10:35,400 GSEA         INFO     Storing eRegulons in .uns[eRegulons].\n",
      "2023-04-16 10:10:37,199 SCENIC+_wrapper INFO     Formatting eGRNs\n",
      "2023-04-16 10:12:35,675 SCENIC+_wrapper INFO     Converting eGRNs to signatures\n",
      "2023-04-16 10:12:40,572 SCENIC+_wrapper INFO     Calculating eGRNs AUC\n",
      "2023-04-16 10:12:40,575 SCENIC+_wrapper INFO     Calculating region ranking\n",
      "2023-04-16 10:15:07,185 SCENIC+_wrapper INFO     Calculating eGRNs region based AUC\n",
      "2023-04-16 10:15:41,561 SCENIC+_wrapper INFO     Calculating gene ranking\n",
      "2023-04-16 10:15:41,902 SCENIC+_wrapper INFO     Calculating eGRNs gene based AUC\n",
      "2023-04-16 10:16:05,245 SCENIC+_wrapper INFO     Binarizing eGRNs AUC\n",
      "2023-04-16 10:21:04,153 SCENIC+_wrapper INFO     Making eGRNs AUC UMAP\n",
      "2023-04-16 10:21:14,315 SCENIC+_wrapper INFO     Making eGRNs AUC tSNE\n",
      "2023-04-16 10:21:19,373 SCENIC+_wrapper INFO     Calculating eRSS\n",
      "2023-04-16 10:21:31,656 SCENIC+_wrapper INFO     Calculating DEGs/DARs\n",
      "2023-04-16 10:21:31,659 SCENIC+      INFO     Calculating DEGs for variable lineage\n",
      "2023-04-16 10:21:31,737 SCENIC+      INFO     There are 294 variable features\n"
     ]
    },
    {
     "name": "stderr",
     "output_type": "stream",
     "text": [
      "... storing 'lineage' as categorical\n"
     ]
    },
    {
     "name": "stdout",
     "output_type": "stream",
     "text": [
      "2023-04-16 10:21:31,962 SCENIC+      INFO     Finished calculating DEGs for variable lineage\n",
      "2023-04-16 10:21:31,963 SCENIC+      INFO     Calculating DARs for variable lineage\n",
      "2023-04-16 10:21:55,269 SCENIC+      INFO     There are 86750 variable features\n"
     ]
    },
    {
     "name": "stderr",
     "output_type": "stream",
     "text": [
      "... storing 'lineage' as categorical\n"
     ]
    },
    {
     "name": "stdout",
     "output_type": "stream",
     "text": [
      "2023-04-16 10:22:08,624 SCENIC+      INFO     Finished calculating DARs for variable lineage\n",
      "2023-04-16 10:22:08,627 SCENIC+_wrapper INFO     Saving object\n",
      "2023-04-16 10:27:28,032 SCENIC+_wrapper INFO     Finished! Took 43.8353262146314 minutes\n"
     ]
    }
   ],
   "source": [
    "try:\n",
    "    sys.stderr = open(os.devnull, \"w\")  # silence stderr\n",
    "    run_scenicplus(\n",
    "        scplus_obj = scplus_obj,\n",
    "        variable = ['lineage'],\n",
    "        species = 'hsapiens',\n",
    "        ensembl_assembly=None,ucsc_assembly=None,\n",
    "        pr_annot=annot_use,pr_chromsizes=chromsizes,\n",
    "        tf_file = '/media/ggj/Guo-4T-AI/Scenicplus_database/allTFs_hg38.txt',\n",
    "        save_path = saveDir,\n",
    "        biomart_host = 'http://nov2020.archive.ensembl.org/',\n",
    "        upstream = [1000, 150000],\n",
    "        downstream = [1000, 150000],\n",
    "        calculate_TF_eGRN_correlation = False,\n",
    "        calculate_DEGs_DARs = True,\n",
    "        export_to_loom_file = False,\n",
    "        export_to_UCSC_file = False,\n",
    "        n_cpu = 20,ignore_reinit_error=True,\n",
    "        _temp_dir = os.path.join(tmpDir, 'ray_spill'))\n",
    "    sys.stderr = sys.__stderr__  # unsilence stderr\n",
    "except Exception as e:\n",
    "    #in case of failure, still save the object\n",
    "    with open(saveDir + 'scplus_obj_pseudo_20', 'wb') as f:\n",
    "        pickle.dump(scplus_obj, f)\n",
    "    raise(e)"
   ]
  },
  {
   "cell_type": "markdown",
   "id": "5ef2021d",
   "metadata": {},
   "source": [
    "# Downstream analysis"
   ]
  },
  {
   "cell_type": "code",
   "execution_count": 3,
   "id": "77be004b",
   "metadata": {},
   "outputs": [],
   "source": [
    "## pycistarget terminal version\n",
    "\n",
    "import warnings\n",
    "warnings.simplefilter(action = 'ignore')\n",
    "import pycisTopic\n",
    "pycisTopic.__version__\n",
    "import numpy as np\n",
    "import pandas as pd\n",
    "\n",
    "projDir = '/media/ggj/FYT/CH/CH-cross/Fig3/Scenicplus/hg38/'\n",
    "outDir = projDir + 'output/'\n",
    "import os\n",
    "if not os.path.exists(outDir):\n",
    "    os.makedirs(outDir)\n",
    "tmpDir = '/media/ggj/FYT/CH/tmp/'\n",
    "if not os.path.exists(tmpDir):\n",
    "    os.makedirs(tmpDir)"
   ]
  },
  {
   "cell_type": "code",
   "execution_count": 15,
   "id": "92758cde",
   "metadata": {},
   "outputs": [
    {
     "data": {
      "text/html": [
       "<div>\n",
       "    <div style=\"margin-left: 50px;display: flex;flex-direction: row;align-items: center\">\n",
       "        <h3 style=\"color: var(--jp-ui-font-color0)\">Ray</h3>\n",
       "        <svg version=\"1.1\" id=\"ray\" width=\"3em\" viewBox=\"0 0 144.5 144.6\" style=\"margin-left: 3em;margin-right: 3em\">\n",
       "            <g id=\"layer-1\">\n",
       "                <path fill=\"#00a2e9\" class=\"st0\" d=\"M97.3,77.2c-3.8-1.1-6.2,0.9-8.3,5.1c-3.5,6.8-9.9,9.9-17.4,9.6S58,88.1,54.8,81.2c-1.4-3-3-4-6.3-4.1\n",
       "                    c-5.6-0.1-9.9,0.1-13.1,6.4c-3.8,7.6-13.6,10.2-21.8,7.6C5.2,88.4-0.4,80.5,0,71.7c0.1-8.4,5.7-15.8,13.8-18.2\n",
       "                    c8.4-2.6,17.5,0.7,22.3,8c1.3,1.9,1.3,5.2,3.6,5.6c3.9,0.6,8,0.2,12,0.2c1.8,0,1.9-1.6,2.4-2.8c3.5-7.8,9.7-11.8,18-11.9\n",
       "                    c8.2-0.1,14.4,3.9,17.8,11.4c1.3,2.8,2.9,3.6,5.7,3.3c1-0.1,2,0.1,3,0c2.8-0.5,6.4,1.7,8.1-2.7s-2.3-5.5-4.1-7.5\n",
       "                    c-5.1-5.7-10.9-10.8-16.1-16.3C84,38,81.9,37.1,78,38.3C66.7,42,56.2,35.7,53,24.1C50.3,14,57.3,2.8,67.7,0.5\n",
       "                    C78.4-2,89,4.7,91.5,15.3c0.1,0.3,0.1,0.5,0.2,0.8c0.7,3.4,0.7,6.9-0.8,9.8c-1.7,3.2-0.8,5,1.5,7.2c6.7,6.5,13.3,13,19.8,19.7\n",
       "                    c1.8,1.8,3,2.1,5.5,1.2c9.1-3.4,17.9-0.6,23.4,7c4.8,6.9,4.6,16.1-0.4,22.9c-5.4,7.2-14.2,9.9-23.1,6.5c-2.3-0.9-3.5-0.6-5.1,1.1\n",
       "                    c-6.7,6.9-13.6,13.7-20.5,20.4c-1.8,1.8-2.5,3.2-1.4,5.9c3.5,8.7,0.3,18.6-7.7,23.6c-7.9,5-18.2,3.8-24.8-2.9\n",
       "                    c-6.4-6.4-7.4-16.2-2.5-24.3c4.9-7.8,14.5-11,23.1-7.8c3,1.1,4.7,0.5,6.9-1.7C91.7,98.4,98,92.3,104.2,86c1.6-1.6,4.1-2.7,2.6-6.2\n",
       "                    c-1.4-3.3-3.8-2.5-6.2-2.6C99.8,77.2,98.9,77.2,97.3,77.2z M72.1,29.7c5.5,0.1,9.9-4.3,10-9.8c0-0.1,0-0.2,0-0.3\n",
       "                    C81.8,14,77,9.8,71.5,10.2c-5,0.3-9,4.2-9.3,9.2c-0.2,5.5,4,10.1,9.5,10.3C71.8,29.7,72,29.7,72.1,29.7z M72.3,62.3\n",
       "                    c-5.4-0.1-9.9,4.2-10.1,9.7c0,0.2,0,0.3,0,0.5c0.2,5.4,4.5,9.7,9.9,10c5.1,0.1,9.9-4.7,10.1-9.8c0.2-5.5-4-10-9.5-10.3\n",
       "                    C72.6,62.3,72.4,62.3,72.3,62.3z M115,72.5c0.1,5.4,4.5,9.7,9.8,9.9c5.6-0.2,10-4.8,10-10.4c-0.2-5.4-4.6-9.7-10-9.7\n",
       "                    c-5.3-0.1-9.8,4.2-9.9,9.5C115,72.1,115,72.3,115,72.5z M19.5,62.3c-5.4,0.1-9.8,4.4-10,9.8c-0.1,5.1,5.2,10.4,10.2,10.3\n",
       "                    c5.6-0.2,10-4.9,9.8-10.5c-0.1-5.4-4.5-9.7-9.9-9.6C19.6,62.3,19.5,62.3,19.5,62.3z M71.8,134.6c5.9,0.2,10.3-3.9,10.4-9.6\n",
       "                    c0.5-5.5-3.6-10.4-9.1-10.8c-5.5-0.5-10.4,3.6-10.8,9.1c0,0.5,0,0.9,0,1.4c-0.2,5.3,4,9.8,9.3,10\n",
       "                    C71.6,134.6,71.7,134.6,71.8,134.6z\"/>\n",
       "            </g>\n",
       "        </svg>\n",
       "        <table>\n",
       "            <tr>\n",
       "                <td style=\"text-align: left\"><b>Python version:</b></td>\n",
       "                <td style=\"text-align: left\"><b>3.8.13</b></td>\n",
       "            </tr>\n",
       "            <tr>\n",
       "                <td style=\"text-align: left\"><b>Ray version:</b></td>\n",
       "                <td style=\"text-align: left\"><b> 2.3.0</b></td>\n",
       "            </tr>\n",
       "            <tr>\n",
       "    <td style=\"text-align: left\"><b>Dashboard:</b></td>\n",
       "    <td style=\"text-align: left\"><b><a href=\"http://127.0.0.1:8265\" target=\"_blank\">http://127.0.0.1:8265</a></b></td>\n",
       "</tr>\n",
       "\n",
       "        </table>\n",
       "    </div>\n",
       "</div>\n"
      ],
      "text/plain": [
       "RayContext(dashboard_url='127.0.0.1:8265', python_version='3.8.13', ray_version='2.3.0', ray_commit='cf7a56b4b0b648c324722df7c99c168e92ff0b45', address_info={'node_ip_address': '10.71.216.76', 'raylet_ip_address': '10.71.216.76', 'redis_address': None, 'object_store_address': '/media/ggj/FYT/tmp/ray/session_2023-04-08_14-40-27_650167_46876/sockets/plasma_store', 'raylet_socket_name': '/media/ggj/FYT/tmp/ray/session_2023-04-08_14-40-27_650167_46876/sockets/raylet', 'webui_url': '127.0.0.1:8265', 'session_dir': '/media/ggj/FYT/tmp/ray/session_2023-04-08_14-40-27_650167_46876', 'metrics_export_port': 46259, 'gcs_address': '10.71.216.76:6379', 'address': '10.71.216.76:6379', 'dashboard_agent_listen_port': 52365, 'node_id': 'ad9e1dedd6c46a52de1646fbc237b30e8d44975e223ede1f1b1bcad3'})"
      ]
     },
     "execution_count": 15,
     "metadata": {},
     "output_type": "execute_result"
    }
   ],
   "source": [
    "## ray init\n",
    "import ray\n",
    "ray.init('auto')\n",
    "#ray.init(address='10.105.100.3:6379')\n",
    "#assert ray.is_initialized() ==True"
   ]
  },
  {
   "cell_type": "code",
   "execution_count": 6,
   "id": "a6156781",
   "metadata": {},
   "outputs": [],
   "source": [
    "saveDir = outDir + 'scenicplus/'\n",
    "if not os.path.exists(saveDir):\n",
    "    os.mkdir(saveDir)"
   ]
  },
  {
   "cell_type": "code",
   "execution_count": 7,
   "id": "eaf8b634",
   "metadata": {},
   "outputs": [],
   "source": [
    "# Downstream analysis\n",
    "import pickle\n",
    "infile = open(saveDir + 'scplus_obj.pkl', 'rb')\n",
    "scplus_obj = pickle.load(infile)\n",
    "infile.close()"
   ]
  },
  {
   "cell_type": "code",
   "execution_count": 20,
   "id": "ce3b32ba",
   "metadata": {},
   "outputs": [
    {
     "name": "stdout",
     "output_type": "stream",
     "text": [
      "Only keeping positive R2G\n",
      "Only keep extended if not direct\n",
      "Getting signatures...\n",
      "Simplifying eRegulons ...\n"
     ]
    },
    {
     "data": {
      "text/html": [
       "<div>\n",
       "<style scoped>\n",
       "    .dataframe tbody tr th:only-of-type {\n",
       "        vertical-align: middle;\n",
       "    }\n",
       "\n",
       "    .dataframe tbody tr th {\n",
       "        vertical-align: top;\n",
       "    }\n",
       "\n",
       "    .dataframe thead th {\n",
       "        text-align: right;\n",
       "    }\n",
       "</style>\n",
       "<table border=\"1\" class=\"dataframe\">\n",
       "  <thead>\n",
       "    <tr style=\"text-align: right;\">\n",
       "      <th></th>\n",
       "      <th>Region_signature_name</th>\n",
       "      <th>Gene_signature_name</th>\n",
       "      <th>TF</th>\n",
       "      <th>is_extended</th>\n",
       "      <th>Region</th>\n",
       "      <th>Gene</th>\n",
       "      <th>R2G_importance</th>\n",
       "      <th>R2G_rho</th>\n",
       "      <th>R2G_importance_x_rho</th>\n",
       "      <th>R2G_importance_x_abs_rho</th>\n",
       "      <th>TF2G_importance</th>\n",
       "      <th>TF2G_regulation</th>\n",
       "      <th>TF2G_rho</th>\n",
       "      <th>TF2G_importance_x_abs_rho</th>\n",
       "      <th>TF2G_importance_x_rho</th>\n",
       "      <th>Consensus_name</th>\n",
       "    </tr>\n",
       "  </thead>\n",
       "  <tbody>\n",
       "    <tr>\n",
       "      <th>0</th>\n",
       "      <td>ARID5B_+_(51r)</td>\n",
       "      <td>ARID5B_+_(29g)</td>\n",
       "      <td>ARID5B</td>\n",
       "      <td>False</td>\n",
       "      <td>chr9:14205510-14206010</td>\n",
       "      <td>NFIB</td>\n",
       "      <td>0.002039</td>\n",
       "      <td>0.699714</td>\n",
       "      <td>0.001427</td>\n",
       "      <td>0.001427</td>\n",
       "      <td>6.615955</td>\n",
       "      <td>1</td>\n",
       "      <td>0.655524</td>\n",
       "      <td>4.336916</td>\n",
       "      <td>4.336916</td>\n",
       "      <td>ARID5B_+_+</td>\n",
       "    </tr>\n",
       "    <tr>\n",
       "      <th>1</th>\n",
       "      <td>ARID5B_+_(51r)</td>\n",
       "      <td>ARID5B_+_(29g)</td>\n",
       "      <td>ARID5B</td>\n",
       "      <td>False</td>\n",
       "      <td>chr16:72927518-72928018</td>\n",
       "      <td>ZFHX3</td>\n",
       "      <td>0.002659</td>\n",
       "      <td>0.066003</td>\n",
       "      <td>0.000176</td>\n",
       "      <td>0.000176</td>\n",
       "      <td>3.231401</td>\n",
       "      <td>1</td>\n",
       "      <td>0.616499</td>\n",
       "      <td>1.992157</td>\n",
       "      <td>1.992157</td>\n",
       "      <td>ARID5B_+_+</td>\n",
       "    </tr>\n",
       "    <tr>\n",
       "      <th>2</th>\n",
       "      <td>ARID5B_+_(51r)</td>\n",
       "      <td>ARID5B_+_(29g)</td>\n",
       "      <td>ARID5B</td>\n",
       "      <td>False</td>\n",
       "      <td>chr16:73232479-73232979</td>\n",
       "      <td>ZFHX3</td>\n",
       "      <td>0.004067</td>\n",
       "      <td>0.459412</td>\n",
       "      <td>0.001868</td>\n",
       "      <td>0.001868</td>\n",
       "      <td>3.231401</td>\n",
       "      <td>1</td>\n",
       "      <td>0.616499</td>\n",
       "      <td>1.992157</td>\n",
       "      <td>1.992157</td>\n",
       "      <td>ARID5B_+_+</td>\n",
       "    </tr>\n",
       "    <tr>\n",
       "      <th>3</th>\n",
       "      <td>ARID5B_+_(51r)</td>\n",
       "      <td>ARID5B_+_(29g)</td>\n",
       "      <td>ARID5B</td>\n",
       "      <td>False</td>\n",
       "      <td>chr16:73020337-73020837</td>\n",
       "      <td>ZFHX3</td>\n",
       "      <td>0.001252</td>\n",
       "      <td>0.295546</td>\n",
       "      <td>0.000370</td>\n",
       "      <td>0.000370</td>\n",
       "      <td>3.231401</td>\n",
       "      <td>1</td>\n",
       "      <td>0.616499</td>\n",
       "      <td>1.992157</td>\n",
       "      <td>1.992157</td>\n",
       "      <td>ARID5B_+_+</td>\n",
       "    </tr>\n",
       "    <tr>\n",
       "      <th>4</th>\n",
       "      <td>ARID5B_+_(51r)</td>\n",
       "      <td>ARID5B_+_(29g)</td>\n",
       "      <td>ARID5B</td>\n",
       "      <td>False</td>\n",
       "      <td>chr19:3374563-3375063</td>\n",
       "      <td>NFIC</td>\n",
       "      <td>0.003015</td>\n",
       "      <td>0.392943</td>\n",
       "      <td>0.001185</td>\n",
       "      <td>0.001185</td>\n",
       "      <td>1.664883</td>\n",
       "      <td>1</td>\n",
       "      <td>0.415209</td>\n",
       "      <td>0.691274</td>\n",
       "      <td>0.691274</td>\n",
       "      <td>ARID5B_+_+</td>\n",
       "    </tr>\n",
       "  </tbody>\n",
       "</table>\n",
       "</div>"
      ],
      "text/plain": [
       "  Region_signature_name Gene_signature_name      TF is_extended  \\\n",
       "0        ARID5B_+_(51r)      ARID5B_+_(29g)  ARID5B       False   \n",
       "1        ARID5B_+_(51r)      ARID5B_+_(29g)  ARID5B       False   \n",
       "2        ARID5B_+_(51r)      ARID5B_+_(29g)  ARID5B       False   \n",
       "3        ARID5B_+_(51r)      ARID5B_+_(29g)  ARID5B       False   \n",
       "4        ARID5B_+_(51r)      ARID5B_+_(29g)  ARID5B       False   \n",
       "\n",
       "                    Region   Gene  R2G_importance   R2G_rho  \\\n",
       "0   chr9:14205510-14206010   NFIB        0.002039  0.699714   \n",
       "1  chr16:72927518-72928018  ZFHX3        0.002659  0.066003   \n",
       "2  chr16:73232479-73232979  ZFHX3        0.004067  0.459412   \n",
       "3  chr16:73020337-73020837  ZFHX3        0.001252  0.295546   \n",
       "4    chr19:3374563-3375063   NFIC        0.003015  0.392943   \n",
       "\n",
       "   R2G_importance_x_rho  R2G_importance_x_abs_rho  TF2G_importance  \\\n",
       "0              0.001427                  0.001427         6.615955   \n",
       "1              0.000176                  0.000176         3.231401   \n",
       "2              0.001868                  0.001868         3.231401   \n",
       "3              0.000370                  0.000370         3.231401   \n",
       "4              0.001185                  0.001185         1.664883   \n",
       "\n",
       "   TF2G_regulation  TF2G_rho  TF2G_importance_x_abs_rho  \\\n",
       "0                1  0.655524                   4.336916   \n",
       "1                1  0.616499                   1.992157   \n",
       "2                1  0.616499                   1.992157   \n",
       "3                1  0.616499                   1.992157   \n",
       "4                1  0.415209                   0.691274   \n",
       "\n",
       "   TF2G_importance_x_rho Consensus_name  \n",
       "0               4.336916     ARID5B_+_+  \n",
       "1               1.992157     ARID5B_+_+  \n",
       "2               1.992157     ARID5B_+_+  \n",
       "3               1.992157     ARID5B_+_+  \n",
       "4               0.691274     ARID5B_+_+  "
      ]
     },
     "execution_count": 20,
     "metadata": {},
     "output_type": "execute_result"
    }
   ],
   "source": [
    "from scenicplus.preprocessing.filtering import apply_std_filtering_to_eRegulons\n",
    "apply_std_filtering_to_eRegulons(scplus_obj)\n",
    "scplus_obj.uns['eRegulon_metadata_filtered'].head()"
   ]
  },
  {
   "cell_type": "code",
   "execution_count": 9,
   "id": "14ba3ad8",
   "metadata": {},
   "outputs": [],
   "source": [
    "scplus_obj.uns['eRegulon_metadata_filtered'].to_csv(saveDir + 'eRegulon_metadata_filtered.csv')\n",
    "scplus_obj.uns['eRegulon_metadata'].to_csv(saveDir + 'eRegulon_metadata.csv')"
   ]
  },
  {
   "cell_type": "code",
   "execution_count": 21,
   "id": "e7c735b9",
   "metadata": {},
   "outputs": [],
   "source": [
    "import dill\n",
    "from scenicplus.eregulon_enrichment import score_eRegulons\n",
    "region_ranking = dill.load(open(os.path.join(saveDir,  'region_ranking.pkl'), 'rb')) #load ranking calculated using the wrapper function\n",
    "gene_ranking = dill.load(open(os.path.join(saveDir, 'gene_ranking.pkl'), 'rb')) #load ranking calculated using the wrapper function"
   ]
  },
  {
   "cell_type": "code",
   "execution_count": 22,
   "id": "fb1f3015",
   "metadata": {},
   "outputs": [],
   "source": [
    "#auc\n",
    "score_eRegulons(scplus_obj,\n",
    "                ranking = region_ranking,\n",
    "                eRegulon_signatures_key = 'eRegulon_signatures_filtered',\n",
    "                key_added = 'eRegulon_AUC_filtered',\n",
    "                enrichment_type= 'region',\n",
    "                auc_threshold = 0.1,\n",
    "                normalize = False,\n",
    "                n_cpu = 5)\n",
    "score_eRegulons(scplus_obj,\n",
    "                gene_ranking,\n",
    "                eRegulon_signatures_key = 'eRegulon_signatures_filtered',\n",
    "                key_added = 'eRegulon_AUC_filtered',\n",
    "                enrichment_type = 'gene',\n",
    "                auc_threshold = 0.1,\n",
    "                normalize= False,\n",
    "                n_cpu = 5)"
   ]
  },
  {
   "cell_type": "code",
   "execution_count": 24,
   "id": "59e38757-c0e0-4241-910f-6df0722a45b3",
   "metadata": {},
   "outputs": [],
   "source": [
    "from scenicplus.cistromes import TF_cistrome_correlation, generate_pseudobulks\n",
    "TF_cistrome_correlation(\n",
    "            scplus_obj,\n",
    "            use_pseudobulk = False,\n",
    "            variable = 'lineage',\n",
    "            auc_key = 'eRegulon_AUC_filtered',\n",
    "            signature_key = 'Gene_based',\n",
    "            out_key = 'filtered_gene_based')\n",
    "TF_cistrome_correlation(\n",
    "            scplus_obj,\n",
    "            use_pseudobulk = False,\n",
    "            variable = 'lineage',\n",
    "            auc_key = 'eRegulon_AUC_filtered',\n",
    "            signature_key = 'Region_based',\n",
    "            out_key = 'filtered_region_based')"
   ]
  },
  {
   "cell_type": "code",
   "execution_count": 25,
   "id": "00bd945e",
   "metadata": {},
   "outputs": [
    {
     "data": {
      "image/png": "[encoded data removed]",
      "text/plain": [
       "<Figure size 1000x500 with 2 Axes>"
      ]
     },
     "metadata": {},
     "output_type": "display_data"
    }
   ],
   "source": [
    "import numpy as np\n",
    "n_targets = [int(x.split('(')[1].replace('r)', '')) for x in scplus_obj.uns['TF_cistrome_correlation']['filtered_region_based']['Cistrome']]\n",
    "rho = scplus_obj.uns['TF_cistrome_correlation']['filtered_region_based']['Rho'].to_list()\n",
    "adj_pval = scplus_obj.uns['TF_cistrome_correlation']['filtered_region_based']['Adjusted_p-value'].to_list()\n",
    "\n",
    "thresholds = {\n",
    "        'rho': [-0.2, 0.2],\n",
    "        'n_targets': 0\n",
    "}\n",
    "import matplotlib.pyplot as plt\n",
    "import seaborn as sns\n",
    "fig, ax = plt.subplots(figsize = (10, 5))\n",
    "sc = ax.scatter(rho, n_targets, c = -np.log10(adj_pval), s = 5)\n",
    "ax.set_xlabel('Correlation coefficient')\n",
    "ax.set_ylabel('nr. target regions')\n",
    "#ax.hlines(y = thresholds['n_targets'], xmin = min(rho), xmax = max(rho), color = 'black', ls = 'dashed', lw = 1)\n",
    "ax.vlines(x = thresholds['rho'], ymin = 0, ymax = max(n_targets), color = 'black', ls = 'dashed', lw = 1)\n",
    "ax.text(x = thresholds['rho'][0], y = max(n_targets), s = str(thresholds['rho'][0]))\n",
    "ax.text(x = thresholds['rho'][1], y = max(n_targets), s = str(thresholds['rho'][1]))\n",
    "sns.despine(ax = ax)\n",
    "fig.colorbar(sc, label = '-log10(adjusted_pvalue)', ax = ax)\n",
    "plt.show()"
   ]
  },
  {
   "cell_type": "code",
   "execution_count": 26,
   "id": "ff8318c2",
   "metadata": {},
   "outputs": [
    {
     "name": "stdout",
     "output_type": "stream",
     "text": [
      "selected: 196 eRegulons\n"
     ]
    }
   ],
   "source": [
    "selected_cistromes = scplus_obj.uns['TF_cistrome_correlation']['filtered_region_based'].loc[\n",
    "        np.logical_or(\n",
    "                scplus_obj.uns['TF_cistrome_correlation']['filtered_region_based']['Rho'] > thresholds['rho'][1],\n",
    "                scplus_obj.uns['TF_cistrome_correlation']['filtered_region_based']['Rho'] < thresholds['rho'][0]\n",
    "        )]['Cistrome'].to_list()\n",
    "selected_eRegulons = [x.split('_(')[0] for x in selected_cistromes]\n",
    "selected_eRegulons_gene_sig = [\n",
    "        x for x in scplus_obj.uns['eRegulon_signatures_filtered']['Gene_based'].keys()\n",
    "        if x.split('_(')[0] in selected_eRegulons]\n",
    "selected_eRegulons_region_sig = [\n",
    "        x for x in scplus_obj.uns['eRegulon_signatures_filtered']['Region_based'].keys()\n",
    "        if x.split('_(')[0] in selected_eRegulons]\n",
    "#save the results in the scenicplus object\n",
    "scplus_obj.uns['selected_eRegulon'] = {'Gene_based': selected_eRegulons_gene_sig, 'Region_based': selected_eRegulons_region_sig}\n",
    "print(f'selected: {len(selected_eRegulons_gene_sig)} eRegulons')"
   ]
  },
  {
   "cell_type": "markdown",
   "id": "43d6e3fa-bc44-4706-8cb7-f5b4229ab910",
   "metadata": {},
   "source": [
    "#from scenicplus.cistromes import cistrome_correlation\n",
    "cistrome_correlation(\n",
    "            scplus_obj,\n",
    "            use_pseudobulk = True,\n",
    "            variable = 'lineage',\n",
    "            auc_key = 'eRegulon_AUC_filtered',\n",
    "            signature_key1= 'Gene_based',\n",
    "            signature_key2= 'Region_based',\n",
    "            out_key= 'filtered_gene_region')"
   ]
  },
  {
   "cell_type": "code",
   "execution_count": 27,
   "id": "59eca624-8faf-4dd0-bf35-e5a2f4ff1786",
   "metadata": {},
   "outputs": [],
   "source": [
    "from scenicplus.plotting.dotplot import generate_dotplot_df\n",
    "plotting_df = generate_dotplot_df(\n",
    "        scplus_obj = scplus_obj,\n",
    "        size_matrix = scplus_obj.uns['eRegulon_AUC_filtered']['Region_based'],\n",
    "        color_matrix = scplus_obj.to_df('EXP'),\n",
    "        scale_size_matrix = True,\n",
    "        scale_color_matrix = True,\n",
    "        group_variable = 'lineage',\n",
    "        subset_eRegulons = scplus_obj.uns['selected_eRegulon']['Gene_based'])\n",
    "tmp = plotting_df[['index', 'eRegulon_name', 'color_val']\n",
    "        ].pivot_table(index = 'index', columns = 'eRegulon_name'\n",
    "        ).fillna(0)['color_val']\n",
    "tmp\n",
    "idx_max = tmp.idxmax(axis = 0)\n",
    "order = pd.concat([idx_max[idx_max == x] for x in tmp.index.tolist() if len(plotting_df[plotting_df == x]) > 0]).index.tolist()\n",
    "plotting_df['eRegulon_name'] = pd.Categorical(plotting_df['eRegulon_name'], categories = order)\n",
    "plotting_df['repressor_activator'] = ['activator' if '+' in n.split('_')[1] and 'extended' not in n or '+' in n.split('_')[2] and 'extended' in n  else 'repressor' for n in plotting_df['eRegulon_name']]\n",
    "plotting_df.to_csv('./human_tfdf_pseudo_20_total.csv')"
   ]
  },
  {
   "cell_type": "code",
   "execution_count": 28,
   "id": "d4d14eb0-ac4f-4e51-80a3-c995bd40a750",
   "metadata": {},
   "outputs": [],
   "source": [
    "import dill\n",
    "dill.dump(scplus_obj, open(os.path.join(saveDir, 'scplus_obj_total.pkl'), 'wb'), protocol=-1)"
   ]
  }
 ],
 "metadata": {
  "kernelspec": {
   "display_name": "scenicplus",
   "language": "python",
   "name": "scenicplus"
  },
  "language_info": {
   "codemirror_mode": {
    "name": "ipython",
    "version": 3
   },
   "file_extension": ".py",
   "mimetype": "text/x-python",
   "name": "python",
   "nbconvert_exporter": "python",
   "pygments_lexer": "ipython3",
   "version": "3.8.13"
  }
 },
 "nbformat": 4,
 "nbformat_minor": 5
}
