{
 "cells": [
  {
   "cell_type": "code",
   "execution_count": 1,
   "id": "874ab9f6",
   "metadata": {
    "tags": []
   },
   "outputs": [],
   "source": [
    "## pycistarget terminal version\n",
    "\n",
    "import warnings\n",
    "warnings.simplefilter(action = 'ignore')\n",
    "import pycisTopic\n",
    "pycisTopic.__version__\n",
    "import numpy as np\n",
    "import pandas as pd\n",
    "\n",
    "projDir = '/media/ggj/FYT/CH/CH-cross/Fig3/Scenicplus/dm6/'\n",
    "outDir = projDir + 'output/'\n",
    "import os\n",
    "if not os.path.exists(outDir):\n",
    "    os.makedirs(outDir)\n",
    "tmpDir = '/media/ggj/FYT/CH/tmp/'\n",
    "if not os.path.exists(tmpDir):\n",
    "    os.makedirs(tmpDir)"
   ]
  },
  {
   "cell_type": "code",
   "execution_count": 2,
   "id": "0ffb7b6b",
   "metadata": {
    "tags": []
   },
   "outputs": [
    {
     "name": "stderr",
     "output_type": "stream",
     "text": [
      "2023-04-21 01:27:50,436\tINFO worker.py:1364 -- Connecting to existing Ray cluster at address: 210.32.150.99:6379...\n",
      "2023-04-21 01:27:50,445\tINFO worker.py:1544 -- Connected to Ray cluster. View the dashboard at \u001b[1m\u001b[32mhttp://127.0.0.1:8265 \u001b[39m\u001b[22m\n"
     ]
    },
    {
     "data": {
      "text/html": [
       "<div>\n",
       "    <div style=\"margin-left: 50px;display: flex;flex-direction: row;align-items: center\">\n",
       "        <h3 style=\"color: var(--jp-ui-font-color0)\">Ray</h3>\n",
       "        <svg version=\"1.1\" id=\"ray\" width=\"3em\" viewBox=\"0 0 144.5 144.6\" style=\"margin-left: 3em;margin-right: 3em\">\n",
       "            <g id=\"layer-1\">\n",
       "                <path fill=\"#00a2e9\" class=\"st0\" d=\"M97.3,77.2c-3.8-1.1-6.2,0.9-8.3,5.1c-3.5,6.8-9.9,9.9-17.4,9.6S58,88.1,54.8,81.2c-1.4-3-3-4-6.3-4.1\n",
       "                    c-5.6-0.1-9.9,0.1-13.1,6.4c-3.8,7.6-13.6,10.2-21.8,7.6C5.2,88.4-0.4,80.5,0,71.7c0.1-8.4,5.7-15.8,13.8-18.2\n",
       "                    c8.4-2.6,17.5,0.7,22.3,8c1.3,1.9,1.3,5.2,3.6,5.6c3.9,0.6,8,0.2,12,0.2c1.8,0,1.9-1.6,2.4-2.8c3.5-7.8,9.7-11.8,18-11.9\n",
       "                    c8.2-0.1,14.4,3.9,17.8,11.4c1.3,2.8,2.9,3.6,5.7,3.3c1-0.1,2,0.1,3,0c2.8-0.5,6.4,1.7,8.1-2.7s-2.3-5.5-4.1-7.5\n",
       "                    c-5.1-5.7-10.9-10.8-16.1-16.3C84,38,81.9,37.1,78,38.3C66.7,42,56.2,35.7,53,24.1C50.3,14,57.3,2.8,67.7,0.5\n",
       "                    C78.4-2,89,4.7,91.5,15.3c0.1,0.3,0.1,0.5,0.2,0.8c0.7,3.4,0.7,6.9-0.8,9.8c-1.7,3.2-0.8,5,1.5,7.2c6.7,6.5,13.3,13,19.8,19.7\n",
       "                    c1.8,1.8,3,2.1,5.5,1.2c9.1-3.4,17.9-0.6,23.4,7c4.8,6.9,4.6,16.1-0.4,22.9c-5.4,7.2-14.2,9.9-23.1,6.5c-2.3-0.9-3.5-0.6-5.1,1.1\n",
       "                    c-6.7,6.9-13.6,13.7-20.5,20.4c-1.8,1.8-2.5,3.2-1.4,5.9c3.5,8.7,0.3,18.6-7.7,23.6c-7.9,5-18.2,3.8-24.8-2.9\n",
       "                    c-6.4-6.4-7.4-16.2-2.5-24.3c4.9-7.8,14.5-11,23.1-7.8c3,1.1,4.7,0.5,6.9-1.7C91.7,98.4,98,92.3,104.2,86c1.6-1.6,4.1-2.7,2.6-6.2\n",
       "                    c-1.4-3.3-3.8-2.5-6.2-2.6C99.8,77.2,98.9,77.2,97.3,77.2z M72.1,29.7c5.5,0.1,9.9-4.3,10-9.8c0-0.1,0-0.2,0-0.3\n",
       "                    C81.8,14,77,9.8,71.5,10.2c-5,0.3-9,4.2-9.3,9.2c-0.2,5.5,4,10.1,9.5,10.3C71.8,29.7,72,29.7,72.1,29.7z M72.3,62.3\n",
       "                    c-5.4-0.1-9.9,4.2-10.1,9.7c0,0.2,0,0.3,0,0.5c0.2,5.4,4.5,9.7,9.9,10c5.1,0.1,9.9-4.7,10.1-9.8c0.2-5.5-4-10-9.5-10.3\n",
       "                    C72.6,62.3,72.4,62.3,72.3,62.3z M115,72.5c0.1,5.4,4.5,9.7,9.8,9.9c5.6-0.2,10-4.8,10-10.4c-0.2-5.4-4.6-9.7-10-9.7\n",
       "                    c-5.3-0.1-9.8,4.2-9.9,9.5C115,72.1,115,72.3,115,72.5z M19.5,62.3c-5.4,0.1-9.8,4.4-10,9.8c-0.1,5.1,5.2,10.4,10.2,10.3\n",
       "                    c5.6-0.2,10-4.9,9.8-10.5c-0.1-5.4-4.5-9.7-9.9-9.6C19.6,62.3,19.5,62.3,19.5,62.3z M71.8,134.6c5.9,0.2,10.3-3.9,10.4-9.6\n",
       "                    c0.5-5.5-3.6-10.4-9.1-10.8c-5.5-0.5-10.4,3.6-10.8,9.1c0,0.5,0,0.9,0,1.4c-0.2,5.3,4,9.8,9.3,10\n",
       "                    C71.6,134.6,71.7,134.6,71.8,134.6z\"/>\n",
       "            </g>\n",
       "        </svg>\n",
       "        <table>\n",
       "            <tr>\n",
       "                <td style=\"text-align: left\"><b>Python version:</b></td>\n",
       "                <td style=\"text-align: left\"><b>3.8.13</b></td>\n",
       "            </tr>\n",
       "            <tr>\n",
       "                <td style=\"text-align: left\"><b>Ray version:</b></td>\n",
       "                <td style=\"text-align: left\"><b> 2.3.0</b></td>\n",
       "            </tr>\n",
       "            <tr>\n",
       "    <td style=\"text-align: left\"><b>Dashboard:</b></td>\n",
       "    <td style=\"text-align: left\"><b><a href=\"http://127.0.0.1:8265\" target=\"_blank\">http://127.0.0.1:8265</a></b></td>\n",
       "</tr>\n",
       "\n",
       "        </table>\n",
       "    </div>\n",
       "</div>\n"
      ],
      "text/plain": [
       "RayContext(dashboard_url='127.0.0.1:8265', python_version='3.8.13', ray_version='2.3.0', ray_commit='cf7a56b4b0b648c324722df7c99c168e92ff0b45', address_info={'node_ip_address': '210.32.150.99', 'raylet_ip_address': '210.32.150.99', 'redis_address': None, 'object_store_address': '/tmp/ray/session_2023-04-21_01-25-12_979112_62905/sockets/plasma_store', 'raylet_socket_name': '/tmp/ray/session_2023-04-21_01-25-12_979112_62905/sockets/raylet', 'webui_url': '127.0.0.1:8265', 'session_dir': '/tmp/ray/session_2023-04-21_01-25-12_979112_62905', 'metrics_export_port': 53295, 'gcs_address': '210.32.150.99:6379', 'address': '210.32.150.99:6379', 'dashboard_agent_listen_port': 52365, 'node_id': 'e41b17fdcdae1ab7490eb50d16ae9228e319bb3ca9edd6500295ad2e'})"
      ]
     },
     "execution_count": 2,
     "metadata": {},
     "output_type": "execute_result"
    }
   ],
   "source": [
    "## ray init\n",
    "import ray\n",
    "ray.init('auto')\n",
    "#ray.init(address='10.105.100.3:6379')\n",
    "#assert ray.is_initialized() ==True"
   ]
  },
  {
   "cell_type": "code",
   "execution_count": 3,
   "id": "2b59e094",
   "metadata": {
    "tags": []
   },
   "outputs": [],
   "source": [
    "#\n",
    "from scenicplus.scenicplus_class import SCENICPLUS, create_SCENICPLUS_object\n",
    "from scenicplus.preprocessing.filtering import *\n",
    "\n",
    "# load data\n",
    "import pickle\n",
    "infile = open('/media/ggj/FYT/CH/CH-cross/Fig3/Scenicplus/dm6/output/dm6_cluster_cistopicObject.pkl', 'rb')\n",
    "cistopic_obj = pickle.load(infile)\n",
    "infile.close()\n",
    "\n",
    "import pickle\n",
    "infile = open('/media/ggj/FYT/CH/CH-cross/Fig3/Scenicplus/dm6/output/DARs/Imputed_accessibility.pkl', 'rb')\n",
    "imputed_acc_obj = pickle.load(infile)\n",
    "infile.close()\n",
    "\n",
    "infile = open('/media/ggj/FYT/CH/CH-cross/Fig3/Scenicplus/dm6/output/pycisTarget/menr.pkl', 'rb') # change here\n",
    "\n",
    "menr = pickle.load(infile)\n",
    "infile.close()"
   ]
  },
  {
   "cell_type": "code",
   "execution_count": 4,
   "id": "f57bcb4b",
   "metadata": {
    "tags": []
   },
   "outputs": [
    {
     "name": "stdout",
     "output_type": "stream",
     "text": [
      "2023-04-21 01:29:04,128 create scenicplus object INFO     Following annotations were found in both assays under key lineage:\n",
      "\tMuscle, Epithelial, MT, Neuron, Gut, Fatbody, Oenocyte.\n",
      "Keeping 1030 cells for RNA and 15061 for ATAC.\n",
      "2023-04-21 01:29:18,515 create scenicplus object INFO     Automatically set `nr_metacells` to: Epithelial: 100, Fatbody: 90, Gut: 50, MT: 100, Muscle: 12, Neuron: 30, Oenocyte: 28\n",
      "2023-04-21 01:29:18,517 create scenicplus object INFO     Generating pseudo multi-ome data\n"
     ]
    }
   ],
   "source": [
    "## RNA \n",
    "from loomxpy.loomxpy import SCopeLoom\n",
    "from pycisTopic.loom import *\n",
    "import itertools\n",
    "import anndata\n",
    "import scanpy as sc\n",
    "import numpy as np\n",
    "rna_anndata = sc.read_loom('/media/ggj/FYT/CH/CH-cross/Fig3/Scenicplus/dm6/dm6_rna_lineage_pseudo_20.loom')\n",
    "rna_anndata\n",
    "\n",
    "\n",
    "## Create Scenicplus object.\n",
    "scplus_obj = create_SCENICPLUS_object(GEX_anndata = rna_anndata, \n",
    "                                     cisTopic_obj = cistopic_obj,\n",
    "                                     imputed_acc_obj = imputed_acc_obj,\n",
    "                                     menr = menr,\n",
    "                                     multi_ome_mode = False,\n",
    "                                     key_to_group_by = 'lineage',\n",
    "                                     nr_cells_per_metacells = 5)"
   ]
  },
  {
   "cell_type": "code",
   "execution_count": 5,
   "id": "4561f777",
   "metadata": {
    "tags": []
   },
   "outputs": [],
   "source": [
    "saveDir = outDir + 'scenicplus/'\n",
    "if not os.path.exists(saveDir):\n",
    "    os.mkdir(saveDir)"
   ]
  },
  {
   "cell_type": "code",
   "execution_count": 6,
   "id": "7118ccaf",
   "metadata": {
    "tags": []
   },
   "outputs": [],
   "source": [
    "import scenicplus"
   ]
  },
  {
   "cell_type": "code",
   "execution_count": 7,
   "id": "4c348cc7",
   "metadata": {
    "tags": []
   },
   "outputs": [],
   "source": [
    "from scenicplus import *"
   ]
  },
  {
   "cell_type": "code",
   "execution_count": 8,
   "id": "cf597adc",
   "metadata": {
    "tags": []
   },
   "outputs": [],
   "source": [
    "from scenicplus.wrappers.run_scenicplus import run_scenicplus"
   ]
  },
  {
   "cell_type": "code",
   "execution_count": 10,
   "id": "254ec4dd-ba0d-4239-864a-36e526486fee",
   "metadata": {},
   "outputs": [
    {
     "name": "stdout",
     "output_type": "stream",
     "text": [
      "2023-04-21 01:29:32,179 Preprocessing INFO     Downloading gene annotation from biomart dataset: dmelanogaster_gene_ensembl\n"
     ]
    }
   ],
   "source": [
    "species = 'dmelanogaster'\n",
    "biomart_host = 'http://www.ensembl.org/'\n",
    "\n",
    "import pybiomart as pbm\n",
    "dataset_name = '{}_gene_ensembl'.format(species)\n",
    "server = pbm.Server(host=biomart_host, use_cache=False)\n",
    "mart = server['ENSEMBL_MART_ENSEMBL']\n",
    "        # check if biomart host is correct\n",
    "dataset_display_name = getattr(\n",
    "            mart.datasets[dataset_name], 'display_name')\n",
    "\n",
    "log.info(\"Downloading gene annotation from biomart dataset: {}\".format(dataset_name))\n",
    "dataset = mart[dataset_name]\n",
    "if 'external_gene_name' not in dataset.attributes.keys():\n",
    "    external_gene_name_query = 'hgnc_symbol'\n",
    "else:\n",
    "    external_gene_name_query = 'external_gene_name'\n",
    "if 'transcription_start_site' not in dataset.attributes.keys():\n",
    "    transcription_start_site_query = 'transcript_start'\n",
    "else:\n",
    "    transcription_start_site_query = 'transcription_start_site'\n",
    "annot = dataset.query(attributes=['chromosome_name', 'start_position', 'end_position',\n",
    "                                  'strand', external_gene_name_query, transcription_start_site_query, 'transcript_biotype'])\n",
    "annot.columns = ['Chromosome', 'Start', 'End', 'Strand',\n",
    "                             'Gene', 'Transcription_Start_Site', 'Transcript_type']\n",
    "annot['Chromosome'] = 'chr' + annot['Chromosome'].astype(str)\n",
    "annot = annot[annot.Transcript_type == 'protein_coding']\n",
    "annot.Strand[annot.Strand == 1] = '+'\n",
    "annot.Strand[annot.Strand == -1] = '-'\n",
    "if not any(['chr' in c for c in scplus_obj.region_names]):\n",
    "    annot.Chromosome = annot.Chromosome.str.replace('chr', '')"
   ]
  },
  {
   "cell_type": "code",
   "execution_count": 11,
   "id": "88bd4fdc-3760-4353-8719-cb5dd263633e",
   "metadata": {},
   "outputs": [],
   "source": [
    "annot.to_csv('./dm6_geneanno.csv')"
   ]
  },
  {
   "cell_type": "code",
   "execution_count": 12,
   "id": "1892b421-819a-46e9-962c-bb900f2f956f",
   "metadata": {},
   "outputs": [],
   "source": [
    "import pyranges as pr\n",
    "annot_use = pr.PyRanges(annot.dropna(axis=0))"
   ]
  },
  {
   "cell_type": "code",
   "execution_count": 13,
   "id": "0ea11e73-009e-44c5-8081-b4b22a5207af",
   "metadata": {},
   "outputs": [],
   "source": [
    "ucsc_assembly='dm6'\n",
    "import requests\n",
    "target_url = 'http://hgdownload.cse.ucsc.edu/goldenPath/{asm}/bigZips/{asm}.chrom.sizes'.format(\n",
    "            asm=ucsc_assembly)\n",
    "        # check wether url exists\n",
    "request = requests.get(target_url)\n",
    "if request.status_code == 200:\n",
    "    #log.info(\"Downloading chromosome sizes from: {}\".format(target_url))\n",
    "    chromsizes = pd.read_csv(target_url, sep='\\t', header=None)\n",
    "    chromsizes.columns = ['Chromosome', 'End']\n",
    "    chromsizes['Start'] = [0]*chromsizes.shape[0]\n",
    "    chromsizes = chromsizes.loc[:, ['Chromosome', 'Start', 'End']]\n",
    "if not any(['chr' in c for c in scplus_obj.region_names]):\n",
    "    annot.Chromosome = annot.Chromosome.str.replace('chr', '')\n",
    "    chromsizes = pr.PyRanges(chromsizes)"
   ]
  },
  {
   "cell_type": "code",
   "execution_count": 14,
   "id": "a62d759d",
   "metadata": {
    "tags": []
   },
   "outputs": [
    {
     "name": "stdout",
     "output_type": "stream",
     "text": [
      "2023-04-21 01:44:27,330 SCENIC+_wrapper INFO     /media/ggj/FYT/CH/CH-cross/Fig3/Scenicplus/dm6/output/scenicplus/ folder already exists.\n",
      "2023-04-21 01:44:27,331 SCENIC+_wrapper INFO     Merging cistromes\n",
      "2023-04-21 01:44:28,960 SCENIC+_wrapper INFO     Getting search space\n",
      "2023-04-21 01:44:29,191 R2G          INFO     Extending promoter annotation to 10 bp upstream and 10 downstream\n",
      "2023-04-21 01:44:29,312 R2G          INFO     Extending search space to:\n",
      "            \t\t\t\t\t\t150000 bp downstream of the end of the gene.\n",
      "            \t\t\t\t\t\t150000 bp upstream of the start of the gene.\n",
      "2023-04-21 01:44:29,863 R2G          INFO     Intersecting with regions.\n",
      "2023-04-21 01:44:30,893 R2G          INFO     Calculating distances from region to gene\n",
      "2023-04-21 01:46:55,534 R2G          INFO     Imploding multiple entries per region and gene\n",
      "2023-04-21 01:52:30,776 R2G          INFO     Done!\n",
      "2023-04-21 01:52:31,312 SCENIC+_wrapper INFO     Inferring region to gene relationships\n",
      "2023-04-21 01:52:31,506 R2G          INFO     Calculating region to gene importances, using GBM method\n",
      "2023-04-21 01:53:53,848 R2G          INFO     Took 82.34068703651428 seconds\n",
      "2023-04-21 01:53:53,851 R2G          INFO     Calculating region to gene correlation, using SR method\n",
      "2023-04-21 01:55:05,214 R2G          INFO     Took 71.36225056648254 seconds\n",
      "2023-04-21 01:55:06,706 R2G          INFO     Done!\n",
      "2023-04-21 01:55:06,768 SCENIC+_wrapper INFO     Inferring TF to gene relationships\n",
      "2023-04-21 01:55:10,249 TF2G         INFO     Calculating TF to gene correlation, using GBM method\n",
      "2023-04-21 01:55:25,646 TF2G         INFO     Took 15.395332098007202 seconds\n",
      "2023-04-21 01:55:25,650 TF2G         INFO     Adding correlation coefficients to adjacencies.\n",
      "2023-04-21 01:55:26,817 TF2G         INFO     Warning: adding TFs as their own target to adjecencies matrix. Importance values will be max + 1e-05\n",
      "2023-04-21 01:55:27,264 TF2G         INFO     Adding importance x rho scores to adjacencies.\n",
      "2023-04-21 01:55:27,269 TF2G         INFO     Took 1.6192002296447754 seconds\n",
      "2023-04-21 01:55:27,280 SCENIC+_wrapper INFO     Build eGRN\n",
      "2023-04-21 01:55:27,280 GSEA         INFO     Thresholding region to gene relationships\n"
     ]
    },
    {
     "name": "stderr",
     "output_type": "stream",
     "text": [
      "2023-04-21 01:55:27,360\tINFO worker.py:1382 -- Calling ray.init() again after it has already been called.\n"
     ]
    },
    {
     "name": "stdout",
     "output_type": "stream",
     "text": [
      "2023-04-21 01:55:56,780 GSEA         INFO     Subsetting TF2G adjacencies for TF with motif.\n"
     ]
    },
    {
     "name": "stderr",
     "output_type": "stream",
     "text": [
      "2023-04-21 01:56:00,506\tINFO worker.py:1544 -- Started a local Ray instance. View the dashboard at \u001b[1m\u001b[32mhttp://127.0.0.1:8266 \u001b[39m\u001b[22m\n"
     ]
    },
    {
     "name": "stdout",
     "output_type": "stream",
     "text": [
      "2023-04-21 01:56:01,338 GSEA         INFO     Running GSEA...\n",
      "2023-04-21 01:56:22,543 GSEA         INFO     Subsetting on adjusted pvalue: 1, minimal NES: 0 and minimal leading edge genes 10\n",
      "2023-04-21 01:56:22,673 GSEA         INFO     Merging eRegulons\n",
      "2023-04-21 01:56:22,707 GSEA         INFO     Storing eRegulons in .uns[eRegulons].\n",
      "2023-04-21 01:56:22,873 SCENIC+_wrapper INFO     Formatting eGRNs\n",
      "2023-04-21 01:56:27,398 SCENIC+_wrapper INFO     Converting eGRNs to signatures\n",
      "2023-04-21 01:56:27,681 SCENIC+_wrapper INFO     Calculating eGRNs AUC\n",
      "2023-04-21 01:56:27,682 SCENIC+_wrapper INFO     Calculating region ranking\n",
      "2023-04-21 01:56:31,910 SCENIC+_wrapper INFO     Calculating eGRNs region based AUC\n",
      "2023-04-21 01:56:36,218 SCENIC+_wrapper INFO     Calculating gene ranking\n",
      "2023-04-21 01:56:36,304 SCENIC+_wrapper INFO     Calculating eGRNs gene based AUC\n",
      "2023-04-21 01:56:39,742 SCENIC+_wrapper INFO     Binarizing eGRNs AUC\n",
      "2023-04-21 01:57:25,399 SCENIC+_wrapper INFO     Making eGRNs AUC UMAP\n",
      "2023-04-21 01:57:31,566 SCENIC+_wrapper INFO     Making eGRNs AUC tSNE\n",
      "2023-04-21 01:57:33,540 SCENIC+_wrapper INFO     Calculating eRSS\n",
      "2023-04-21 01:57:35,041 SCENIC+_wrapper INFO     Calculating DEGs/DARs\n",
      "2023-04-21 01:57:35,043 SCENIC+      INFO     Calculating DEGs for variable lineage\n",
      "2023-04-21 01:57:35,092 SCENIC+      INFO     There are 108 variable features\n"
     ]
    },
    {
     "name": "stderr",
     "output_type": "stream",
     "text": [
      "... storing 'lineage' as categorical\n"
     ]
    },
    {
     "name": "stdout",
     "output_type": "stream",
     "text": [
      "2023-04-21 01:57:35,237 SCENIC+      INFO     Finished calculating DEGs for variable lineage\n",
      "2023-04-21 01:57:35,238 SCENIC+      INFO     Calculating DARs for variable lineage\n",
      "2023-04-21 01:57:36,119 SCENIC+      INFO     There are 22127 variable features\n"
     ]
    },
    {
     "name": "stderr",
     "output_type": "stream",
     "text": [
      "... storing 'lineage' as categorical\n"
     ]
    },
    {
     "name": "stdout",
     "output_type": "stream",
     "text": [
      "2023-04-21 01:57:37,704 SCENIC+      INFO     Finished calculating DARs for variable lineage\n",
      "2023-04-21 01:57:37,706 SCENIC+_wrapper INFO     Saving object\n",
      "2023-04-21 01:58:22,921 SCENIC+_wrapper INFO     Finished! Took 13.92652892669042 minutes\n"
     ]
    }
   ],
   "source": [
    "try:\n",
    "    sys.stderr = open(os.devnull, \"w\")  # silence stderr\n",
    "    run_scenicplus(\n",
    "        scplus_obj = scplus_obj,\n",
    "        variable = ['lineage'],\n",
    "        species = 'dmelanogaster',\n",
    "        ensembl_assembly=None,ucsc_assembly=None,\n",
    "        pr_annot=annot_use,pr_chromsizes=chromsizes,\n",
    "        tf_file = '/media/ggj/Guo-4T-AI/Scenicplus_database/allTFs_dmel.txt',\n",
    "        save_path = saveDir,\n",
    "        biomart_host = 'http://nov2020.archive.ensembl.org/',\n",
    "        upstream = [1000, 150000],\n",
    "        downstream = [1000, 150000],\n",
    "        calculate_TF_eGRN_correlation = False,\n",
    "        calculate_DEGs_DARs = True,\n",
    "        export_to_loom_file = False,\n",
    "        export_to_UCSC_file = False,\n",
    "        n_cpu = 10,ignore_reinit_error=True,\n",
    "        _temp_dir = os.path.join(tmpDir, 'ray_spill'))\n",
    "    sys.stderr = sys.__stderr__  # unsilence stderr\n",
    "except Exception as e:\n",
    "    #in case of failure, still save the object\n",
    "    with open(saveDir + 'scplus_obj_test', 'wb') as f:\n",
    "        pickle.dump(scplus_obj, f)\n",
    "    raise(e)"
   ]
  },
  {
   "cell_type": "code",
   "execution_count": 12,
   "id": "87880510",
   "metadata": {},
   "outputs": [],
   "source": [
    "import dill\n",
    "dill.dump(scplus_obj, open(os.path.join(saveDir, 'scplus_obj.pkl'), 'wb'), protocol=-1)"
   ]
  },
  {
   "cell_type": "markdown",
   "id": "26980d35",
   "metadata": {},
   "source": [
    "Downstream analysis"
   ]
  },
  {
   "cell_type": "code",
   "execution_count": 1,
   "id": "eaf8b634",
   "metadata": {},
   "outputs": [],
   "source": [
    "## pycistarget terminal version\n",
    "\n",
    "import warnings\n",
    "warnings.simplefilter(action = 'ignore')\n",
    "import pycisTopic\n",
    "pycisTopic.__version__\n",
    "import numpy as np\n",
    "import pandas as pd\n",
    "\n",
    "projDir = '/media/ggj/FYT/CH/CH-cross/Fig3/Scenicplus/dm6/'\n",
    "outDir = projDir + 'output/'\n",
    "import os\n",
    "if not os.path.exists(outDir):\n",
    "    os.makedirs(outDir)\n",
    "tmpDir = '/media/ggj/FYT/CH/tmp/'\n",
    "if not os.path.exists(tmpDir):\n",
    "    os.makedirs(tmpDir)"
   ]
  },
  {
   "cell_type": "code",
   "execution_count": 2,
   "id": "3934f1cd",
   "metadata": {},
   "outputs": [
    {
     "name": "stderr",
     "output_type": "stream",
     "text": [
      "2023-04-06 19:05:15,037\tINFO worker.py:1364 -- Connecting to existing Ray cluster at address: 210.32.155.235:6379...\n",
      "2023-04-06 19:05:15,051\tINFO worker.py:1544 -- Connected to Ray cluster. View the dashboard at \u001b[1m\u001b[32mhttp://127.0.0.1:8265 \u001b[39m\u001b[22m\n"
     ]
    },
    {
     "data": {
      "text/html": [
       "<div>\n",
       "    <div style=\"margin-left: 50px;display: flex;flex-direction: row;align-items: center\">\n",
       "        <h3 style=\"color: var(--jp-ui-font-color0)\">Ray</h3>\n",
       "        <svg version=\"1.1\" id=\"ray\" width=\"3em\" viewBox=\"0 0 144.5 144.6\" style=\"margin-left: 3em;margin-right: 3em\">\n",
       "            <g id=\"layer-1\">\n",
       "                <path fill=\"#00a2e9\" class=\"st0\" d=\"M97.3,77.2c-3.8-1.1-6.2,0.9-8.3,5.1c-3.5,6.8-9.9,9.9-17.4,9.6S58,88.1,54.8,81.2c-1.4-3-3-4-6.3-4.1\n",
       "                    c-5.6-0.1-9.9,0.1-13.1,6.4c-3.8,7.6-13.6,10.2-21.8,7.6C5.2,88.4-0.4,80.5,0,71.7c0.1-8.4,5.7-15.8,13.8-18.2\n",
       "                    c8.4-2.6,17.5,0.7,22.3,8c1.3,1.9,1.3,5.2,3.6,5.6c3.9,0.6,8,0.2,12,0.2c1.8,0,1.9-1.6,2.4-2.8c3.5-7.8,9.7-11.8,18-11.9\n",
       "                    c8.2-0.1,14.4,3.9,17.8,11.4c1.3,2.8,2.9,3.6,5.7,3.3c1-0.1,2,0.1,3,0c2.8-0.5,6.4,1.7,8.1-2.7s-2.3-5.5-4.1-7.5\n",
       "                    c-5.1-5.7-10.9-10.8-16.1-16.3C84,38,81.9,37.1,78,38.3C66.7,42,56.2,35.7,53,24.1C50.3,14,57.3,2.8,67.7,0.5\n",
       "                    C78.4-2,89,4.7,91.5,15.3c0.1,0.3,0.1,0.5,0.2,0.8c0.7,3.4,0.7,6.9-0.8,9.8c-1.7,3.2-0.8,5,1.5,7.2c6.7,6.5,13.3,13,19.8,19.7\n",
       "                    c1.8,1.8,3,2.1,5.5,1.2c9.1-3.4,17.9-0.6,23.4,7c4.8,6.9,4.6,16.1-0.4,22.9c-5.4,7.2-14.2,9.9-23.1,6.5c-2.3-0.9-3.5-0.6-5.1,1.1\n",
       "                    c-6.7,6.9-13.6,13.7-20.5,20.4c-1.8,1.8-2.5,3.2-1.4,5.9c3.5,8.7,0.3,18.6-7.7,23.6c-7.9,5-18.2,3.8-24.8-2.9\n",
       "                    c-6.4-6.4-7.4-16.2-2.5-24.3c4.9-7.8,14.5-11,23.1-7.8c3,1.1,4.7,0.5,6.9-1.7C91.7,98.4,98,92.3,104.2,86c1.6-1.6,4.1-2.7,2.6-6.2\n",
       "                    c-1.4-3.3-3.8-2.5-6.2-2.6C99.8,77.2,98.9,77.2,97.3,77.2z M72.1,29.7c5.5,0.1,9.9-4.3,10-9.8c0-0.1,0-0.2,0-0.3\n",
       "                    C81.8,14,77,9.8,71.5,10.2c-5,0.3-9,4.2-9.3,9.2c-0.2,5.5,4,10.1,9.5,10.3C71.8,29.7,72,29.7,72.1,29.7z M72.3,62.3\n",
       "                    c-5.4-0.1-9.9,4.2-10.1,9.7c0,0.2,0,0.3,0,0.5c0.2,5.4,4.5,9.7,9.9,10c5.1,0.1,9.9-4.7,10.1-9.8c0.2-5.5-4-10-9.5-10.3\n",
       "                    C72.6,62.3,72.4,62.3,72.3,62.3z M115,72.5c0.1,5.4,4.5,9.7,9.8,9.9c5.6-0.2,10-4.8,10-10.4c-0.2-5.4-4.6-9.7-10-9.7\n",
       "                    c-5.3-0.1-9.8,4.2-9.9,9.5C115,72.1,115,72.3,115,72.5z M19.5,62.3c-5.4,0.1-9.8,4.4-10,9.8c-0.1,5.1,5.2,10.4,10.2,10.3\n",
       "                    c5.6-0.2,10-4.9,9.8-10.5c-0.1-5.4-4.5-9.7-9.9-9.6C19.6,62.3,19.5,62.3,19.5,62.3z M71.8,134.6c5.9,0.2,10.3-3.9,10.4-9.6\n",
       "                    c0.5-5.5-3.6-10.4-9.1-10.8c-5.5-0.5-10.4,3.6-10.8,9.1c0,0.5,0,0.9,0,1.4c-0.2,5.3,4,9.8,9.3,10\n",
       "                    C71.6,134.6,71.7,134.6,71.8,134.6z\"/>\n",
       "            </g>\n",
       "        </svg>\n",
       "        <table>\n",
       "            <tr>\n",
       "                <td style=\"text-align: left\"><b>Python version:</b></td>\n",
       "                <td style=\"text-align: left\"><b>3.8.13</b></td>\n",
       "            </tr>\n",
       "            <tr>\n",
       "                <td style=\"text-align: left\"><b>Ray version:</b></td>\n",
       "                <td style=\"text-align: left\"><b> 2.3.0</b></td>\n",
       "            </tr>\n",
       "            <tr>\n",
       "    <td style=\"text-align: left\"><b>Dashboard:</b></td>\n",
       "    <td style=\"text-align: left\"><b><a href=\"http://127.0.0.1:8265\" target=\"_blank\">http://127.0.0.1:8265</a></b></td>\n",
       "</tr>\n",
       "\n",
       "        </table>\n",
       "    </div>\n",
       "</div>\n"
      ],
      "text/plain": [
       "RayContext(dashboard_url='127.0.0.1:8265', python_version='3.8.13', ray_version='2.3.0', ray_commit='cf7a56b4b0b648c324722df7c99c168e92ff0b45', address_info={'node_ip_address': '210.32.155.235', 'raylet_ip_address': '210.32.155.235', 'redis_address': None, 'object_store_address': '/media/ggj/FYT/tmp/ray/session_2023-04-06_16-18-37_704078_36147/sockets/plasma_store', 'raylet_socket_name': '/media/ggj/FYT/tmp/ray/session_2023-04-06_16-18-37_704078_36147/sockets/raylet', 'webui_url': '127.0.0.1:8265', 'session_dir': '/media/ggj/FYT/tmp/ray/session_2023-04-06_16-18-37_704078_36147', 'metrics_export_port': 63050, 'gcs_address': '210.32.155.235:6379', 'address': '210.32.155.235:6379', 'dashboard_agent_listen_port': 52365, 'node_id': '7d803f125419c066f252c9366179119b8bb08b0bd591ed2b20108c50'})"
      ]
     },
     "execution_count": 2,
     "metadata": {},
     "output_type": "execute_result"
    }
   ],
   "source": [
    "## ray init\n",
    "import ray\n",
    "ray.init('auto')\n",
    "#ray.init(address='10.105.100.3:6379')\n",
    "#assert ray.is_initialized() ==True"
   ]
  },
  {
   "cell_type": "code",
   "execution_count": 15,
   "id": "c70214df",
   "metadata": {},
   "outputs": [],
   "source": [
    "saveDir = outDir + 'scenicplus/'\n",
    "if not os.path.exists(saveDir):\n",
    "    os.mkdir(saveDir)"
   ]
  },
  {
   "cell_type": "code",
   "execution_count": 16,
   "id": "00984b3f",
   "metadata": {},
   "outputs": [
    {
     "name": "stdout",
     "output_type": "stream",
     "text": [
      "Only keeping positive R2G\n",
      "Only keep extended if not direct\n",
      "Getting signatures...\n",
      "Simplifying eRegulons ...\n"
     ]
    },
    {
     "data": {
      "text/html": [
       "<div>\n",
       "<style scoped>\n",
       "    .dataframe tbody tr th:only-of-type {\n",
       "        vertical-align: middle;\n",
       "    }\n",
       "\n",
       "    .dataframe tbody tr th {\n",
       "        vertical-align: top;\n",
       "    }\n",
       "\n",
       "    .dataframe thead th {\n",
       "        text-align: right;\n",
       "    }\n",
       "</style>\n",
       "<table border=\"1\" class=\"dataframe\">\n",
       "  <thead>\n",
       "    <tr style=\"text-align: right;\">\n",
       "      <th></th>\n",
       "      <th>Region_signature_name</th>\n",
       "      <th>Gene_signature_name</th>\n",
       "      <th>TF</th>\n",
       "      <th>is_extended</th>\n",
       "      <th>Region</th>\n",
       "      <th>Gene</th>\n",
       "      <th>R2G_importance</th>\n",
       "      <th>R2G_rho</th>\n",
       "      <th>R2G_importance_x_rho</th>\n",
       "      <th>R2G_importance_x_abs_rho</th>\n",
       "      <th>TF2G_importance</th>\n",
       "      <th>TF2G_regulation</th>\n",
       "      <th>TF2G_rho</th>\n",
       "      <th>TF2G_importance_x_abs_rho</th>\n",
       "      <th>TF2G_importance_x_rho</th>\n",
       "      <th>Consensus_name</th>\n",
       "    </tr>\n",
       "  </thead>\n",
       "  <tbody>\n",
       "    <tr>\n",
       "      <th>0</th>\n",
       "      <td>Aef1_+_(15r)</td>\n",
       "      <td>Aef1_+_(12g)</td>\n",
       "      <td>Aef1</td>\n",
       "      <td>False</td>\n",
       "      <td>chr3R:26005888-26006388</td>\n",
       "      <td>E(spl)m8-HLH</td>\n",
       "      <td>0.012953</td>\n",
       "      <td>0.075359</td>\n",
       "      <td>0.000976</td>\n",
       "      <td>0.000976</td>\n",
       "      <td>2.134402</td>\n",
       "      <td>1</td>\n",
       "      <td>0.192873</td>\n",
       "      <td>0.411669</td>\n",
       "      <td>0.411669</td>\n",
       "      <td>Aef1_+_+</td>\n",
       "    </tr>\n",
       "    <tr>\n",
       "      <th>1</th>\n",
       "      <td>Aef1_+_(15r)</td>\n",
       "      <td>Aef1_+_(12g)</td>\n",
       "      <td>Aef1</td>\n",
       "      <td>False</td>\n",
       "      <td>chr3R:25955377-25955877</td>\n",
       "      <td>E(spl)m8-HLH</td>\n",
       "      <td>0.019587</td>\n",
       "      <td>0.075594</td>\n",
       "      <td>0.001481</td>\n",
       "      <td>0.001481</td>\n",
       "      <td>2.134402</td>\n",
       "      <td>1</td>\n",
       "      <td>0.192873</td>\n",
       "      <td>0.411669</td>\n",
       "      <td>0.411669</td>\n",
       "      <td>Aef1_+_+</td>\n",
       "    </tr>\n",
       "    <tr>\n",
       "      <th>2</th>\n",
       "      <td>Aef1_+_(15r)</td>\n",
       "      <td>Aef1_+_(12g)</td>\n",
       "      <td>Aef1</td>\n",
       "      <td>False</td>\n",
       "      <td>chr3R:26008348-26008848</td>\n",
       "      <td>E(spl)m8-HLH</td>\n",
       "      <td>0.014292</td>\n",
       "      <td>0.060716</td>\n",
       "      <td>0.000868</td>\n",
       "      <td>0.000868</td>\n",
       "      <td>2.134402</td>\n",
       "      <td>1</td>\n",
       "      <td>0.192873</td>\n",
       "      <td>0.411669</td>\n",
       "      <td>0.411669</td>\n",
       "      <td>Aef1_+_+</td>\n",
       "    </tr>\n",
       "    <tr>\n",
       "      <th>3</th>\n",
       "      <td>Aef1_+_(15r)</td>\n",
       "      <td>Aef1_+_(12g)</td>\n",
       "      <td>Aef1</td>\n",
       "      <td>False</td>\n",
       "      <td>chr3R:26085110-26085610</td>\n",
       "      <td>E(spl)m8-HLH</td>\n",
       "      <td>0.030217</td>\n",
       "      <td>0.100869</td>\n",
       "      <td>0.003048</td>\n",
       "      <td>0.003048</td>\n",
       "      <td>2.134402</td>\n",
       "      <td>1</td>\n",
       "      <td>0.192873</td>\n",
       "      <td>0.411669</td>\n",
       "      <td>0.411669</td>\n",
       "      <td>Aef1_+_+</td>\n",
       "    </tr>\n",
       "    <tr>\n",
       "      <th>4</th>\n",
       "      <td>Aef1_+_(15r)</td>\n",
       "      <td>Aef1_+_(12g)</td>\n",
       "      <td>Aef1</td>\n",
       "      <td>False</td>\n",
       "      <td>chr3L:6405238-6405738</td>\n",
       "      <td>CG10147</td>\n",
       "      <td>0.010902</td>\n",
       "      <td>0.052451</td>\n",
       "      <td>0.000572</td>\n",
       "      <td>0.000572</td>\n",
       "      <td>1.925547</td>\n",
       "      <td>1</td>\n",
       "      <td>0.209217</td>\n",
       "      <td>0.402857</td>\n",
       "      <td>0.402857</td>\n",
       "      <td>Aef1_+_+</td>\n",
       "    </tr>\n",
       "  </tbody>\n",
       "</table>\n",
       "</div>"
      ],
      "text/plain": [
       "  Region_signature_name Gene_signature_name    TF is_extended  \\\n",
       "0          Aef1_+_(15r)        Aef1_+_(12g)  Aef1       False   \n",
       "1          Aef1_+_(15r)        Aef1_+_(12g)  Aef1       False   \n",
       "2          Aef1_+_(15r)        Aef1_+_(12g)  Aef1       False   \n",
       "3          Aef1_+_(15r)        Aef1_+_(12g)  Aef1       False   \n",
       "4          Aef1_+_(15r)        Aef1_+_(12g)  Aef1       False   \n",
       "\n",
       "                    Region          Gene  R2G_importance   R2G_rho  \\\n",
       "0  chr3R:26005888-26006388  E(spl)m8-HLH        0.012953  0.075359   \n",
       "1  chr3R:25955377-25955877  E(spl)m8-HLH        0.019587  0.075594   \n",
       "2  chr3R:26008348-26008848  E(spl)m8-HLH        0.014292  0.060716   \n",
       "3  chr3R:26085110-26085610  E(spl)m8-HLH        0.030217  0.100869   \n",
       "4    chr3L:6405238-6405738       CG10147        0.010902  0.052451   \n",
       "\n",
       "   R2G_importance_x_rho  R2G_importance_x_abs_rho  TF2G_importance  \\\n",
       "0              0.000976                  0.000976         2.134402   \n",
       "1              0.001481                  0.001481         2.134402   \n",
       "2              0.000868                  0.000868         2.134402   \n",
       "3              0.003048                  0.003048         2.134402   \n",
       "4              0.000572                  0.000572         1.925547   \n",
       "\n",
       "   TF2G_regulation  TF2G_rho  TF2G_importance_x_abs_rho  \\\n",
       "0                1  0.192873                   0.411669   \n",
       "1                1  0.192873                   0.411669   \n",
       "2                1  0.192873                   0.411669   \n",
       "3                1  0.192873                   0.411669   \n",
       "4                1  0.209217                   0.402857   \n",
       "\n",
       "   TF2G_importance_x_rho Consensus_name  \n",
       "0               0.411669       Aef1_+_+  \n",
       "1               0.411669       Aef1_+_+  \n",
       "2               0.411669       Aef1_+_+  \n",
       "3               0.411669       Aef1_+_+  \n",
       "4               0.402857       Aef1_+_+  "
      ]
     },
     "execution_count": 16,
     "metadata": {},
     "output_type": "execute_result"
    }
   ],
   "source": [
    "from scenicplus.preprocessing.filtering import apply_std_filtering_to_eRegulons\n",
    "apply_std_filtering_to_eRegulons(scplus_obj)\n",
    "scplus_obj.uns['eRegulon_metadata_filtered'].head()"
   ]
  },
  {
   "cell_type": "code",
   "execution_count": 6,
   "id": "c9d4b828",
   "metadata": {},
   "outputs": [],
   "source": [
    "scplus_obj.uns['eRegulon_metadata_filtered'].to_csv(saveDir + 'eRegulon_metadata_filtered.csv')\n",
    "scplus_obj.uns['eRegulon_metadata'].to_csv(saveDir + 'eRegulon_metadata.csv')"
   ]
  },
  {
   "cell_type": "code",
   "execution_count": 17,
   "id": "51ab98d3",
   "metadata": {},
   "outputs": [],
   "source": [
    "import dill\n",
    "from scenicplus.eregulon_enrichment import score_eRegulons\n",
    "region_ranking = dill.load(open(os.path.join(saveDir,  'region_ranking.pkl'), 'rb')) #load ranking calculated using the wrapper function\n",
    "gene_ranking = dill.load(open(os.path.join(saveDir, 'gene_ranking.pkl'), 'rb')) #load ranking calculated using the wrapper function"
   ]
  },
  {
   "cell_type": "code",
   "execution_count": 18,
   "id": "9f96108f",
   "metadata": {},
   "outputs": [],
   "source": [
    "#auc\n",
    "score_eRegulons(scplus_obj,\n",
    "                ranking = region_ranking,\n",
    "                eRegulon_signatures_key = 'eRegulon_signatures_filtered',\n",
    "                key_added = 'eRegulon_AUC_filtered',\n",
    "                enrichment_type= 'region',\n",
    "                auc_threshold = 0.1,\n",
    "                normalize = False,\n",
    "                n_cpu = 5)\n",
    "score_eRegulons(scplus_obj,\n",
    "                gene_ranking,\n",
    "                eRegulon_signatures_key = 'eRegulon_signatures_filtered',\n",
    "                key_added = 'eRegulon_AUC_filtered',\n",
    "                enrichment_type = 'gene',\n",
    "                auc_threshold = 0.1,\n",
    "                normalize= False,\n",
    "                n_cpu = 5)"
   ]
  },
  {
   "cell_type": "code",
   "execution_count": 19,
   "id": "b0b93abd",
   "metadata": {},
   "outputs": [],
   "source": [
    "from scenicplus.cistromes import TF_cistrome_correlation, generate_pseudobulks\n",
    "\n",
    "generate_pseudobulks(\n",
    "        scplus_obj = scplus_obj,\n",
    "        variable = 'lineage',\n",
    "        auc_key = 'eRegulon_AUC_filtered',\n",
    "        signature_key = 'Gene_based')\n",
    "generate_pseudobulks(\n",
    "        scplus_obj = scplus_obj,\n",
    "        variable = 'lineage',\n",
    "        auc_key = 'eRegulon_AUC_filtered',\n",
    "        signature_key = 'Region_based')\n",
    "\n",
    "TF_cistrome_correlation(\n",
    "            scplus_obj,\n",
    "            use_pseudobulk = True,\n",
    "            variable = 'lineage',\n",
    "            auc_key = 'eRegulon_AUC_filtered',\n",
    "            signature_key = 'Gene_based',\n",
    "            out_key = 'filtered_gene_based')\n",
    "TF_cistrome_correlation(\n",
    "            scplus_obj,\n",
    "            use_pseudobulk = True,\n",
    "            variable = 'lineage',\n",
    "            auc_key = 'eRegulon_AUC_filtered',\n",
    "            signature_key = 'Region_based',\n",
    "            out_key = 'filtered_region_based')"
   ]
  },
  {
   "cell_type": "code",
   "execution_count": 21,
   "id": "798c83a8",
   "metadata": {},
   "outputs": [],
   "source": [
    "#change cistrome name\n",
    "tm=[x.replace('E(spl)', 'E<spl>') for x in scplus_obj.uns['TF_cistrome_correlation']['filtered_region_based']['Cistrome']]"
   ]
  },
  {
   "cell_type": "code",
   "execution_count": 22,
   "id": "5e8f41be",
   "metadata": {},
   "outputs": [
    {
     "data": {
      "text/plain": [
       "['mid_extended_+_(44r)',\n",
       " 'Doc2_extended_+_(21r)',\n",
       " 'E<spl>m5-HLH_extended_+_(32r)',\n",
       " 'klu_-_(41r)',\n",
       " 'gem_extended_-_(18r)',\n",
       " 'Kr_+_(27r)',\n",
       " 'pad_+_(28r)',\n",
       " 'Trl_-_(90r)',\n",
       " 'E<spl>m3-HLH_extended_+_(64r)',\n",
       " 'sug_extended_-_(29r)',\n",
       " 'E<spl>mdelta-HLH_+_(68r)',\n",
       " 'H15_extended_+_(31r)',\n",
       " 'lola_+_(188r)',\n",
       " 'E<spl>mbeta-HLH_extended_+_(18r)',\n",
       " 'peb_extended_-_(37r)',\n",
       " 'CG12219_+_(32r)',\n",
       " 'nom_extended_+_(58r)',\n",
       " 'Clamp_+_(130r)',\n",
       " 'E<spl>m7-HLH_extended_-_(25r)',\n",
       " 'srp_-_(46r)',\n",
       " 'E<spl>mgamma-HLH_extended_+_(24r)',\n",
       " 'GATAe_-_(31r)',\n",
       " 'grn_+_(18r)',\n",
       " 'grn_-_(40r)',\n",
       " 'E<spl>mdelta-HLH_extended_-_(30r)',\n",
       " 'Aef1_+_(15r)',\n",
       " 'GATAd_+_(55r)',\n",
       " 'hb_extended_+_(48r)',\n",
       " 'lov_+_(30r)',\n",
       " 'Hesr_extended_-_(25r)',\n",
       " 'ci_-_(24r)',\n",
       " 'E<spl>m7-HLH_extended_+_(38r)',\n",
       " 'ci_+_(22r)',\n",
       " 'ham_extended_+_(21r)',\n",
       " 'CG15011_extended_-_(23r)',\n",
       " 'so_extended_+_(38r)',\n",
       " 'Doc1_extended_-_(23r)',\n",
       " 'Clamp_-_(34r)',\n",
       " 'dl_extended_-_(55r)',\n",
       " 'peb_extended_+_(23r)',\n",
       " 'GATAe_+_(111r)',\n",
       " 'Dif_extended_-_(100r)',\n",
       " 'Doc2_extended_-_(18r)',\n",
       " 'pnr_+_(64r)',\n",
       " 'Xpac_extended_+_(50r)',\n",
       " 'cwo_extended_-_(19r)',\n",
       " 'Hsf_extended_+_(87r)',\n",
       " 'M1BP_extended_+_(89r)',\n",
       " 'fkh_extended_-_(44r)',\n",
       " 'pnr_-_(28r)',\n",
       " 'nom_extended_-_(53r)',\n",
       " 'Trl_+_(119r)',\n",
       " 'ab_+_(91r)',\n",
       " 'GATAd_extended_-_(46r)',\n",
       " 'srp_+_(90r)',\n",
       " 'da_extended_+_(62r)',\n",
       " 'E<spl>m8-HLH_extended_+_(14r)',\n",
       " 'TFAM_+_(40r)',\n",
       " 'Doc3_extended_+_(16r)',\n",
       " 'Cdc5_extended_+_(70r)',\n",
       " 'FoxP_-_(11r)',\n",
       " 'E<spl>mbeta-HLH_extended_-_(39r)',\n",
       " 'grh_+_(34r)',\n",
       " 'FoxP_+_(23r)',\n",
       " 'byn_-_(12r)',\n",
       " 'CG15011_extended_+_(61r)',\n",
       " 'fd59A_+_(13r)',\n",
       " 'sr_+_(206r)']"
      ]
     },
     "execution_count": 22,
     "metadata": {},
     "output_type": "execute_result"
    }
   ],
   "source": [
    "tm"
   ]
  },
  {
   "cell_type": "code",
   "execution_count": 23,
   "id": "4600a537",
   "metadata": {},
   "outputs": [],
   "source": [
    "import numpy as np\n",
    "n_targets = [int(x.split('(')[1].replace('r)', '')) for x in tm]\n",
    "rho = scplus_obj.uns['TF_cistrome_correlation']['filtered_region_based']['Rho'].to_list()\n",
    "adj_pval = scplus_obj.uns['TF_cistrome_correlation']['filtered_region_based']['Adjusted_p-value'].to_list()"
   ]
  },
  {
   "cell_type": "code",
   "execution_count": 24,
   "id": "6e7fcd08",
   "metadata": {},
   "outputs": [
    {
     "data": {
      "image/png": "[encoded data removed]",
      "text/plain": [
       "<Figure size 1000x500 with 2 Axes>"
      ]
     },
     "metadata": {},
     "output_type": "display_data"
    }
   ],
   "source": [
    "thresholds = {\n",
    "        'rho': [-0.2, 0.2],\n",
    "        'n_targets': 0\n",
    "}\n",
    "import matplotlib.pyplot as plt\n",
    "import seaborn as sns\n",
    "fig, ax = plt.subplots(figsize = (10, 5))\n",
    "sc = ax.scatter(rho, n_targets, c = -np.log10(adj_pval), s = 5)\n",
    "ax.set_xlabel('Correlation coefficient')\n",
    "ax.set_ylabel('nr. target regions')\n",
    "#ax.hlines(y = thresholds['n_targets'], xmin = min(rho), xmax = max(rho), color = 'black', ls = 'dashed', lw = 1)\n",
    "ax.vlines(x = thresholds['rho'], ymin = 0, ymax = max(n_targets), color = 'black', ls = 'dashed', lw = 1)\n",
    "ax.text(x = thresholds['rho'][0], y = max(n_targets), s = str(thresholds['rho'][0]))\n",
    "ax.text(x = thresholds['rho'][1], y = max(n_targets), s = str(thresholds['rho'][1]))\n",
    "sns.despine(ax = ax)\n",
    "fig.colorbar(sc, label = '-log10(adjusted_pvalue)', ax = ax)\n",
    "plt.show()"
   ]
  },
  {
   "cell_type": "code",
   "execution_count": 25,
   "id": "836742b0",
   "metadata": {},
   "outputs": [
    {
     "name": "stdout",
     "output_type": "stream",
     "text": [
      "selected: 49 eRegulons\n"
     ]
    }
   ],
   "source": [
    "selected_cistromes = scplus_obj.uns['TF_cistrome_correlation']['filtered_region_based'].loc[\n",
    "        np.logical_or(\n",
    "                scplus_obj.uns['TF_cistrome_correlation']['filtered_region_based']['Rho'] > thresholds['rho'][1],\n",
    "                scplus_obj.uns['TF_cistrome_correlation']['filtered_region_based']['Rho'] < thresholds['rho'][0]\n",
    "        )]['Cistrome'].to_list()\n",
    "selected_eRegulons = [x.split('_(')[0] for x in selected_cistromes]\n",
    "selected_eRegulons_gene_sig = [\n",
    "        x for x in scplus_obj.uns['eRegulon_signatures_filtered']['Gene_based'].keys()\n",
    "        if x.split('_(')[0] in selected_eRegulons]\n",
    "selected_eRegulons_region_sig = [\n",
    "        x for x in scplus_obj.uns['eRegulon_signatures_filtered']['Region_based'].keys()\n",
    "        if x.split('_(')[0] in selected_eRegulons]\n",
    "#save the results in the scenicplus object\n",
    "scplus_obj.uns['selected_eRegulon'] = {'Gene_based': selected_eRegulons_gene_sig, 'Region_based': selected_eRegulons_region_sig}\n",
    "print(f'selected: {len(selected_eRegulons_gene_sig)} eRegulons')"
   ]
  },
  {
   "cell_type": "code",
   "execution_count": 26,
   "id": "4db5634f-e163-4974-8e60-b9e0068b4df0",
   "metadata": {},
   "outputs": [],
   "source": [
    "from scenicplus.plotting.dotplot import generate_dotplot_df\n",
    "plotting_df = generate_dotplot_df(\n",
    "        scplus_obj = scplus_obj,\n",
    "        size_matrix = scplus_obj.uns['eRegulon_AUC_filtered']['Region_based'],\n",
    "        color_matrix = scplus_obj.to_df('EXP'),\n",
    "        scale_size_matrix = True,\n",
    "        scale_color_matrix = True,\n",
    "        group_variable = 'lineage',\n",
    "        subset_eRegulons = scplus_obj.uns['selected_eRegulon']['Gene_based'])\n",
    "tmp = plotting_df[['index', 'eRegulon_name', 'color_val']\n",
    "        ].pivot_table(index = 'index', columns = 'eRegulon_name'\n",
    "        ).fillna(0)['color_val']\n",
    "tmp\n",
    "idx_max = tmp.idxmax(axis = 0)\n",
    "order = pd.concat([idx_max[idx_max == x] for x in tmp.index.tolist() if len(plotting_df[plotting_df == x]) > 0]).index.tolist()\n",
    "plotting_df['eRegulon_name'] = pd.Categorical(plotting_df['eRegulon_name'], categories = order)\n",
    "plotting_df['repressor_activator'] = ['activator' if '+' in n.split('_')[1] and 'extended' not in n or '+' in n.split('_')[2] and 'extended' in n  else 'repressor' for n in plotting_df['eRegulon_name']]\n",
    "plotting_df.to_csv('./dm6_tfdf_pseudo_20_total.csv')"
   ]
  },
  {
   "cell_type": "code",
   "execution_count": 27,
   "id": "9ea13aa1-28ac-4f46-a0b9-d7e87524aedd",
   "metadata": {},
   "outputs": [],
   "source": [
    "import dill\n",
    "dill.dump(scplus_obj, open(os.path.join(saveDir, 'scplus_obj_total.pkl'), 'wb'), protocol=-1)"
   ]
  }
 ],
 "metadata": {
  "kernelspec": {
   "display_name": "scenicplus",
   "language": "python",
   "name": "scenicplus"
  },
  "language_info": {
   "codemirror_mode": {
    "name": "ipython",
    "version": 3
   },
   "file_extension": ".py",
   "mimetype": "text/x-python",
   "name": "python",
   "nbconvert_exporter": "python",
   "pygments_lexer": "ipython3",
   "version": "3.8.13"
  }
 },
 "nbformat": 4,
 "nbformat_minor": 5
}
